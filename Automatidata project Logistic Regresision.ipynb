{
 "cells": [
  {
   "cell_type": "markdown",
   "metadata": {
    "id": "DtNBZFHO3M7n"
   },
   "source": [
    "# **Automatidata project**\n",
    "Regression Analysis by Mariano Gattesco"
   ]
  },
  {
   "cell_type": "markdown",
   "metadata": {
    "id": "7KFOyc3JPSiN"
   },
   "source": [
    "## Multiple linear regression model\n",
    "\n",
    "## PACE: **Plan**"
   ]
  },
  {
   "cell_type": "code",
   "execution_count": 1,
   "metadata": {
    "id": "ccfeg6X6eOVZ"
   },
   "outputs": [],
   "source": [
    "import pandas as pd\n",
    "import seaborn as sns\n",
    "import numpy as np\n",
    "\n",
    "import matplotlib.pyplot as plt\n",
    "import statsmodels.api as sm\n",
    "\n",
    "from statsmodels.formula.api import ols\n",
    "from sklearn.model_selection import train_test_split\n",
    "from sklearn.linear_model import LogisticRegression"
   ]
  },
  {
   "cell_type": "code",
   "execution_count": 2,
   "metadata": {
    "id": "TyR3sBUYJBO8"
   },
   "outputs": [],
   "source": [
    "df0=pd.read_csv(\"2017_Yellow_Taxi_Trip_Data.csv\") "
   ]
  },
  {
   "cell_type": "markdown",
   "metadata": {
    "id": "OnrvCSfHUWPv"
   },
   "source": [
    "## PACE: **Analyze**"
   ]
  },
  {
   "cell_type": "markdown",
   "metadata": {
    "id": "rIcDG2e66wt9"
   },
   "source": [
    "### Explore data with EDA"
   ]
  },
  {
   "cell_type": "code",
   "execution_count": 3,
   "metadata": {
    "id": "T4Ag-sZhWg6K"
   },
   "outputs": [
    {
     "name": "stdout",
     "output_type": "stream",
     "text": [
      "(22699, 18)\n",
      "<class 'pandas.core.frame.DataFrame'>\n",
      "RangeIndex: 22699 entries, 0 to 22698\n",
      "Data columns (total 18 columns):\n",
      " #   Column                 Non-Null Count  Dtype  \n",
      "---  ------                 --------------  -----  \n",
      " 0   Unnamed: 0             22699 non-null  int64  \n",
      " 1   VendorID               22699 non-null  int64  \n",
      " 2   tpep_pickup_datetime   22699 non-null  object \n",
      " 3   tpep_dropoff_datetime  22699 non-null  object \n",
      " 4   passenger_count        22699 non-null  int64  \n",
      " 5   trip_distance          22699 non-null  float64\n",
      " 6   RatecodeID             22699 non-null  int64  \n",
      " 7   store_and_fwd_flag     22699 non-null  object \n",
      " 8   PULocationID           22699 non-null  int64  \n",
      " 9   DOLocationID           22699 non-null  int64  \n",
      " 10  payment_type           22699 non-null  int64  \n",
      " 11  fare_amount            22699 non-null  float64\n",
      " 12  extra                  22699 non-null  float64\n",
      " 13  mta_tax                22699 non-null  float64\n",
      " 14  tip_amount             22699 non-null  float64\n",
      " 15  tolls_amount           22699 non-null  float64\n",
      " 16  improvement_surcharge  22699 non-null  float64\n",
      " 17  total_amount           22699 non-null  float64\n",
      "dtypes: float64(8), int64(7), object(3)\n",
      "memory usage: 3.1+ MB\n"
     ]
    }
   ],
   "source": [
    "print(df0.shape)\n",
    "df0.info()"
   ]
  },
  {
   "cell_type": "code",
   "execution_count": 4,
   "metadata": {
    "id": "3QZZIxxi3OV3"
   },
   "outputs": [
    {
     "name": "stdout",
     "output_type": "stream",
     "text": [
      "Unnamed: 0               0\n",
      "VendorID                 0\n",
      "tpep_pickup_datetime     0\n",
      "tpep_dropoff_datetime    0\n",
      "passenger_count          0\n",
      "trip_distance            0\n",
      "RatecodeID               0\n",
      "store_and_fwd_flag       0\n",
      "PULocationID             0\n",
      "DOLocationID             0\n",
      "payment_type             0\n",
      "fare_amount              0\n",
      "extra                    0\n",
      "mta_tax                  0\n",
      "tip_amount               0\n",
      "tolls_amount             0\n",
      "improvement_surcharge    0\n",
      "total_amount             0\n",
      "dtype: int64\n",
      "\n",
      "duplicated:  0\n"
     ]
    },
    {
     "data": {
      "text/plain": [
       "Unnamed: 0               0\n",
       "VendorID                 0\n",
       "tpep_pickup_datetime     0\n",
       "tpep_dropoff_datetime    0\n",
       "passenger_count          0\n",
       "trip_distance            0\n",
       "RatecodeID               0\n",
       "store_and_fwd_flag       0\n",
       "PULocationID             0\n",
       "DOLocationID             0\n",
       "payment_type             0\n",
       "fare_amount              0\n",
       "extra                    0\n",
       "mta_tax                  0\n",
       "tip_amount               0\n",
       "tolls_amount             0\n",
       "improvement_surcharge    0\n",
       "total_amount             0\n",
       "dtype: int64"
      ]
     },
     "execution_count": 4,
     "metadata": {},
     "output_type": "execute_result"
    }
   ],
   "source": [
    "print(df0.isna().sum())\n",
    "print()\n",
    "print(\"duplicated: \" ,df0.duplicated().sum())\n",
    "df0.drop_duplicates()\n",
    "df0.dropna()\n",
    "df0.isna().sum()\n"
   ]
  },
  {
   "cell_type": "code",
   "execution_count": 5,
   "metadata": {
    "id": "2O3b9H9B9nwk"
   },
   "outputs": [
    {
     "data": {
      "text/html": [
       "<div>\n",
       "<style scoped>\n",
       "    .dataframe tbody tr th:only-of-type {\n",
       "        vertical-align: middle;\n",
       "    }\n",
       "\n",
       "    .dataframe tbody tr th {\n",
       "        vertical-align: top;\n",
       "    }\n",
       "\n",
       "    .dataframe thead th {\n",
       "        text-align: right;\n",
       "    }\n",
       "</style>\n",
       "<table border=\"1\" class=\"dataframe\">\n",
       "  <thead>\n",
       "    <tr style=\"text-align: right;\">\n",
       "      <th></th>\n",
       "      <th>Unnamed: 0</th>\n",
       "      <th>VendorID</th>\n",
       "      <th>passenger_count</th>\n",
       "      <th>trip_distance</th>\n",
       "      <th>RatecodeID</th>\n",
       "      <th>PULocationID</th>\n",
       "      <th>DOLocationID</th>\n",
       "      <th>payment_type</th>\n",
       "      <th>fare_amount</th>\n",
       "      <th>extra</th>\n",
       "      <th>mta_tax</th>\n",
       "      <th>tip_amount</th>\n",
       "      <th>tolls_amount</th>\n",
       "      <th>improvement_surcharge</th>\n",
       "      <th>total_amount</th>\n",
       "    </tr>\n",
       "  </thead>\n",
       "  <tbody>\n",
       "    <tr>\n",
       "      <th>count</th>\n",
       "      <td>2.269900e+04</td>\n",
       "      <td>22699.000000</td>\n",
       "      <td>22699.000000</td>\n",
       "      <td>22699.000000</td>\n",
       "      <td>22699.000000</td>\n",
       "      <td>22699.000000</td>\n",
       "      <td>22699.000000</td>\n",
       "      <td>22699.000000</td>\n",
       "      <td>22699.000000</td>\n",
       "      <td>22699.000000</td>\n",
       "      <td>22699.000000</td>\n",
       "      <td>22699.000000</td>\n",
       "      <td>22699.000000</td>\n",
       "      <td>22699.000000</td>\n",
       "      <td>22699.000000</td>\n",
       "    </tr>\n",
       "    <tr>\n",
       "      <th>mean</th>\n",
       "      <td>5.675849e+07</td>\n",
       "      <td>1.556236</td>\n",
       "      <td>1.642319</td>\n",
       "      <td>2.913313</td>\n",
       "      <td>1.043394</td>\n",
       "      <td>162.412353</td>\n",
       "      <td>161.527997</td>\n",
       "      <td>1.336887</td>\n",
       "      <td>13.026629</td>\n",
       "      <td>0.333275</td>\n",
       "      <td>0.497445</td>\n",
       "      <td>1.835781</td>\n",
       "      <td>0.312542</td>\n",
       "      <td>0.299551</td>\n",
       "      <td>16.310502</td>\n",
       "    </tr>\n",
       "    <tr>\n",
       "      <th>std</th>\n",
       "      <td>3.274493e+07</td>\n",
       "      <td>0.496838</td>\n",
       "      <td>1.285231</td>\n",
       "      <td>3.653171</td>\n",
       "      <td>0.708391</td>\n",
       "      <td>66.633373</td>\n",
       "      <td>70.139691</td>\n",
       "      <td>0.496211</td>\n",
       "      <td>13.243791</td>\n",
       "      <td>0.463097</td>\n",
       "      <td>0.039465</td>\n",
       "      <td>2.800626</td>\n",
       "      <td>1.399212</td>\n",
       "      <td>0.015673</td>\n",
       "      <td>16.097295</td>\n",
       "    </tr>\n",
       "    <tr>\n",
       "      <th>min</th>\n",
       "      <td>1.212700e+04</td>\n",
       "      <td>1.000000</td>\n",
       "      <td>0.000000</td>\n",
       "      <td>0.000000</td>\n",
       "      <td>1.000000</td>\n",
       "      <td>1.000000</td>\n",
       "      <td>1.000000</td>\n",
       "      <td>1.000000</td>\n",
       "      <td>-120.000000</td>\n",
       "      <td>-1.000000</td>\n",
       "      <td>-0.500000</td>\n",
       "      <td>0.000000</td>\n",
       "      <td>0.000000</td>\n",
       "      <td>-0.300000</td>\n",
       "      <td>-120.300000</td>\n",
       "    </tr>\n",
       "    <tr>\n",
       "      <th>25%</th>\n",
       "      <td>2.852056e+07</td>\n",
       "      <td>1.000000</td>\n",
       "      <td>1.000000</td>\n",
       "      <td>0.990000</td>\n",
       "      <td>1.000000</td>\n",
       "      <td>114.000000</td>\n",
       "      <td>112.000000</td>\n",
       "      <td>1.000000</td>\n",
       "      <td>6.500000</td>\n",
       "      <td>0.000000</td>\n",
       "      <td>0.500000</td>\n",
       "      <td>0.000000</td>\n",
       "      <td>0.000000</td>\n",
       "      <td>0.300000</td>\n",
       "      <td>8.750000</td>\n",
       "    </tr>\n",
       "    <tr>\n",
       "      <th>50%</th>\n",
       "      <td>5.673150e+07</td>\n",
       "      <td>2.000000</td>\n",
       "      <td>1.000000</td>\n",
       "      <td>1.610000</td>\n",
       "      <td>1.000000</td>\n",
       "      <td>162.000000</td>\n",
       "      <td>162.000000</td>\n",
       "      <td>1.000000</td>\n",
       "      <td>9.500000</td>\n",
       "      <td>0.000000</td>\n",
       "      <td>0.500000</td>\n",
       "      <td>1.350000</td>\n",
       "      <td>0.000000</td>\n",
       "      <td>0.300000</td>\n",
       "      <td>11.800000</td>\n",
       "    </tr>\n",
       "    <tr>\n",
       "      <th>75%</th>\n",
       "      <td>8.537452e+07</td>\n",
       "      <td>2.000000</td>\n",
       "      <td>2.000000</td>\n",
       "      <td>3.060000</td>\n",
       "      <td>1.000000</td>\n",
       "      <td>233.000000</td>\n",
       "      <td>233.000000</td>\n",
       "      <td>2.000000</td>\n",
       "      <td>14.500000</td>\n",
       "      <td>0.500000</td>\n",
       "      <td>0.500000</td>\n",
       "      <td>2.450000</td>\n",
       "      <td>0.000000</td>\n",
       "      <td>0.300000</td>\n",
       "      <td>17.800000</td>\n",
       "    </tr>\n",
       "    <tr>\n",
       "      <th>max</th>\n",
       "      <td>1.134863e+08</td>\n",
       "      <td>2.000000</td>\n",
       "      <td>6.000000</td>\n",
       "      <td>33.960000</td>\n",
       "      <td>99.000000</td>\n",
       "      <td>265.000000</td>\n",
       "      <td>265.000000</td>\n",
       "      <td>4.000000</td>\n",
       "      <td>999.990000</td>\n",
       "      <td>4.500000</td>\n",
       "      <td>0.500000</td>\n",
       "      <td>200.000000</td>\n",
       "      <td>19.100000</td>\n",
       "      <td>0.300000</td>\n",
       "      <td>1200.290000</td>\n",
       "    </tr>\n",
       "  </tbody>\n",
       "</table>\n",
       "</div>"
      ],
      "text/plain": [
       "         Unnamed: 0      VendorID  passenger_count  trip_distance  \\\n",
       "count  2.269900e+04  22699.000000     22699.000000   22699.000000   \n",
       "mean   5.675849e+07      1.556236         1.642319       2.913313   \n",
       "std    3.274493e+07      0.496838         1.285231       3.653171   \n",
       "min    1.212700e+04      1.000000         0.000000       0.000000   \n",
       "25%    2.852056e+07      1.000000         1.000000       0.990000   \n",
       "50%    5.673150e+07      2.000000         1.000000       1.610000   \n",
       "75%    8.537452e+07      2.000000         2.000000       3.060000   \n",
       "max    1.134863e+08      2.000000         6.000000      33.960000   \n",
       "\n",
       "         RatecodeID  PULocationID  DOLocationID  payment_type   fare_amount  \\\n",
       "count  22699.000000  22699.000000  22699.000000  22699.000000  22699.000000   \n",
       "mean       1.043394    162.412353    161.527997      1.336887     13.026629   \n",
       "std        0.708391     66.633373     70.139691      0.496211     13.243791   \n",
       "min        1.000000      1.000000      1.000000      1.000000   -120.000000   \n",
       "25%        1.000000    114.000000    112.000000      1.000000      6.500000   \n",
       "50%        1.000000    162.000000    162.000000      1.000000      9.500000   \n",
       "75%        1.000000    233.000000    233.000000      2.000000     14.500000   \n",
       "max       99.000000    265.000000    265.000000      4.000000    999.990000   \n",
       "\n",
       "              extra       mta_tax    tip_amount  tolls_amount  \\\n",
       "count  22699.000000  22699.000000  22699.000000  22699.000000   \n",
       "mean       0.333275      0.497445      1.835781      0.312542   \n",
       "std        0.463097      0.039465      2.800626      1.399212   \n",
       "min       -1.000000     -0.500000      0.000000      0.000000   \n",
       "25%        0.000000      0.500000      0.000000      0.000000   \n",
       "50%        0.000000      0.500000      1.350000      0.000000   \n",
       "75%        0.500000      0.500000      2.450000      0.000000   \n",
       "max        4.500000      0.500000    200.000000     19.100000   \n",
       "\n",
       "       improvement_surcharge  total_amount  \n",
       "count           22699.000000  22699.000000  \n",
       "mean                0.299551     16.310502  \n",
       "std                 0.015673     16.097295  \n",
       "min                -0.300000   -120.300000  \n",
       "25%                 0.300000      8.750000  \n",
       "50%                 0.300000     11.800000  \n",
       "75%                 0.300000     17.800000  \n",
       "max                 0.300000   1200.290000  "
      ]
     },
     "execution_count": 5,
     "metadata": {},
     "output_type": "execute_result"
    }
   ],
   "source": [
    "df0.describe()"
   ]
  },
  {
   "cell_type": "markdown",
   "metadata": {
    "id": "iXhaBfP_WOSR"
   },
   "source": [
    "### Convert columns"
   ]
  },
  {
   "cell_type": "code",
   "execution_count": 6,
   "metadata": {
    "id": "TbHu-SSInJCX"
   },
   "outputs": [
    {
     "name": "stdout",
     "output_type": "stream",
     "text": [
      "tpep_pickup_datetime     object\n",
      "tpep_dropoff_datetime    object\n",
      "dtype: object\n"
     ]
    },
    {
     "data": {
      "text/plain": [
       "0    03/25/2017 8:55:43 AM\n",
       "1    04/11/2017 2:53:28 PM\n",
       "Name: tpep_pickup_datetime, dtype: object"
      ]
     },
     "execution_count": 6,
     "metadata": {},
     "output_type": "execute_result"
    }
   ],
   "source": [
    "print(df0[[\"tpep_pickup_datetime\",\"tpep_dropoff_datetime\"]].dtypes)\n",
    "df0[\"tpep_pickup_datetime\"][:2]"
   ]
  },
  {
   "cell_type": "code",
   "execution_count": 7,
   "metadata": {
    "id": "h5L6OdYPqV0N"
   },
   "outputs": [
    {
     "name": "stdout",
     "output_type": "stream",
     "text": [
      "<class 'pandas.core.frame.DataFrame'>\n",
      "RangeIndex: 22699 entries, 0 to 22698\n",
      "Data columns (total 18 columns):\n",
      " #   Column                 Non-Null Count  Dtype         \n",
      "---  ------                 --------------  -----         \n",
      " 0   Unnamed: 0             22699 non-null  int64         \n",
      " 1   VendorID               22699 non-null  int64         \n",
      " 2   tpep_pickup_datetime   22699 non-null  datetime64[ns]\n",
      " 3   tpep_dropoff_datetime  22699 non-null  datetime64[ns]\n",
      " 4   passenger_count        22699 non-null  int64         \n",
      " 5   trip_distance          22699 non-null  float64       \n",
      " 6   RatecodeID             22699 non-null  int64         \n",
      " 7   store_and_fwd_flag     22699 non-null  object        \n",
      " 8   PULocationID           22699 non-null  int64         \n",
      " 9   DOLocationID           22699 non-null  int64         \n",
      " 10  payment_type           22699 non-null  int64         \n",
      " 11  fare_amount            22699 non-null  float64       \n",
      " 12  extra                  22699 non-null  float64       \n",
      " 13  mta_tax                22699 non-null  float64       \n",
      " 14  tip_amount             22699 non-null  float64       \n",
      " 15  tolls_amount           22699 non-null  float64       \n",
      " 16  improvement_surcharge  22699 non-null  float64       \n",
      " 17  total_amount           22699 non-null  float64       \n",
      "dtypes: datetime64[ns](2), float64(8), int64(7), object(1)\n",
      "memory usage: 3.1+ MB\n"
     ]
    }
   ],
   "source": [
    "df0[\"tpep_pickup_datetime\"] = pd.to_datetime(df0[\"tpep_pickup_datetime\"],format='%m/%d/%Y %H:%M:%S %p')\n",
    "df0[\"tpep_dropoff_datetime\"] = pd.to_datetime(df0[\"tpep_dropoff_datetime\"],format='%m/%d/%Y %H:%M:%S %p')\n",
    "df0[[\"tpep_pickup_datetime\",\"tpep_dropoff_datetime\"]].dtypes\n",
    "\n",
    "df0.info()\n"
   ]
  },
  {
   "cell_type": "markdown",
   "metadata": {
    "id": "KlF7ZNSyW0yV"
   },
   "source": [
    "### Create duration column"
   ]
  },
  {
   "cell_type": "code",
   "execution_count": 8,
   "metadata": {
    "id": "suC4LJFPMPCo"
   },
   "outputs": [
    {
     "data": {
      "text/plain": [
       "0    14.0\n",
       "1    26.0\n",
       "2     7.0\n",
       "3    30.0\n",
       "4    16.0\n",
       "Name: duration, dtype: float64"
      ]
     },
     "execution_count": 8,
     "metadata": {},
     "output_type": "execute_result"
    }
   ],
   "source": [
    "from datetime import datetime\n",
    "import datetime as dt\n",
    "\n",
    "df0[\"duration\"] = df0[\"tpep_dropoff_datetime\"]-df0[\"tpep_pickup_datetime\"]\n",
    "df0[\"duration\"] = df0[\"duration\"].astype('m8[m]')\n",
    "df0[\"duration\"].head()\n",
    "\n"
   ]
  },
  {
   "cell_type": "code",
   "execution_count": 9,
   "metadata": {
    "id": "W5bCdL5SSfg1"
   },
   "outputs": [
    {
     "name": "stdout",
     "output_type": "stream",
     "text": [
      "<class 'pandas.core.frame.DataFrame'>\n",
      "RangeIndex: 22699 entries, 0 to 22698\n",
      "Data columns (total 19 columns):\n",
      " #   Column                 Non-Null Count  Dtype         \n",
      "---  ------                 --------------  -----         \n",
      " 0   Unnamed: 0             22699 non-null  int64         \n",
      " 1   VendorID               22699 non-null  int64         \n",
      " 2   tpep_pickup_datetime   22699 non-null  datetime64[ns]\n",
      " 3   tpep_dropoff_datetime  22699 non-null  datetime64[ns]\n",
      " 4   passenger_count        22699 non-null  int64         \n",
      " 5   trip_distance          22699 non-null  float64       \n",
      " 6   RatecodeID             22699 non-null  int64         \n",
      " 7   store_and_fwd_flag     22699 non-null  object        \n",
      " 8   PULocationID           22699 non-null  int64         \n",
      " 9   DOLocationID           22699 non-null  int64         \n",
      " 10  payment_type           22699 non-null  int64         \n",
      " 11  fare_amount            22699 non-null  float64       \n",
      " 12  extra                  22699 non-null  float64       \n",
      " 13  mta_tax                22699 non-null  float64       \n",
      " 14  tip_amount             22699 non-null  float64       \n",
      " 15  tolls_amount           22699 non-null  float64       \n",
      " 16  improvement_surcharge  22699 non-null  float64       \n",
      " 17  total_amount           22699 non-null  float64       \n",
      " 18  duration               22699 non-null  float64       \n",
      "dtypes: datetime64[ns](2), float64(9), int64(7), object(1)\n",
      "memory usage: 3.3+ MB\n"
     ]
    }
   ],
   "source": [
    "df0.info()"
   ]
  },
  {
   "cell_type": "markdown",
   "metadata": {
    "id": "Vtj4iAJMk9Vc"
   },
   "source": [
    "### Box plots outliers"
   ]
  },
  {
   "cell_type": "code",
   "execution_count": 10,
   "metadata": {
    "id": "KCEzE-gwL5gq"
   },
   "outputs": [
    {
     "data": {
      "image/png": "[encoded data removed]",
      "text/plain": [
       "<Figure size 432x288 with 1 Axes>"
      ]
     },
     "metadata": {
      "needs_background": "light"
     },
     "output_type": "display_data"
    }
   ],
   "source": [
    "sns.boxplot(x=df0[\"trip_distance\"])\n",
    "plt.show()"
   ]
  },
  {
   "cell_type": "code",
   "execution_count": 11,
   "metadata": {},
   "outputs": [
    {
     "data": {
      "image/png": "[encoded data removed]",
      "text/plain": [
       "<Figure size 432x288 with 1 Axes>"
      ]
     },
     "metadata": {
      "needs_background": "light"
     },
     "output_type": "display_data"
    }
   ],
   "source": [
    "sns.boxplot(x=df0[\"fare_amount\"])\n",
    "plt.show()"
   ]
  },
  {
   "cell_type": "code",
   "execution_count": 12,
   "metadata": {},
   "outputs": [
    {
     "data": {
      "image/png": "[encoded data removed]",
      "text/plain": [
       "<Figure size 432x288 with 1 Axes>"
      ]
     },
     "metadata": {
      "needs_background": "light"
     },
     "output_type": "display_data"
    }
   ],
   "source": [
    "sns.boxplot(x=df0[\"duration\"])\n",
    "plt.show()"
   ]
  },
  {
   "cell_type": "markdown",
   "metadata": {},
   "source": [
    "### Imputations"
   ]
  },
  {
   "cell_type": "markdown",
   "metadata": {},
   "source": [
    "#### `trip_distance` outliers"
   ]
  },
  {
   "cell_type": "code",
   "execution_count": 13,
   "metadata": {},
   "outputs": [
    {
     "data": {
      "text/html": [
       "<div>\n",
       "<style scoped>\n",
       "    .dataframe tbody tr th:only-of-type {\n",
       "        vertical-align: middle;\n",
       "    }\n",
       "\n",
       "    .dataframe tbody tr th {\n",
       "        vertical-align: top;\n",
       "    }\n",
       "\n",
       "    .dataframe thead th {\n",
       "        text-align: right;\n",
       "    }\n",
       "</style>\n",
       "<table border=\"1\" class=\"dataframe\">\n",
       "  <thead>\n",
       "    <tr style=\"text-align: right;\">\n",
       "      <th></th>\n",
       "      <th>Unnamed: 0</th>\n",
       "      <th>VendorID</th>\n",
       "      <th>tpep_pickup_datetime</th>\n",
       "      <th>tpep_dropoff_datetime</th>\n",
       "      <th>passenger_count</th>\n",
       "      <th>trip_distance</th>\n",
       "      <th>RatecodeID</th>\n",
       "      <th>store_and_fwd_flag</th>\n",
       "      <th>PULocationID</th>\n",
       "      <th>DOLocationID</th>\n",
       "      <th>payment_type</th>\n",
       "      <th>fare_amount</th>\n",
       "      <th>extra</th>\n",
       "      <th>mta_tax</th>\n",
       "      <th>tip_amount</th>\n",
       "      <th>tolls_amount</th>\n",
       "      <th>improvement_surcharge</th>\n",
       "      <th>total_amount</th>\n",
       "      <th>duration</th>\n",
       "    </tr>\n",
       "  </thead>\n",
       "  <tbody>\n",
       "    <tr>\n",
       "      <th>22026</th>\n",
       "      <td>63642923</td>\n",
       "      <td>1</td>\n",
       "      <td>2017-07-27 07:44:24</td>\n",
       "      <td>2017-07-27 07:44:24</td>\n",
       "      <td>1</td>\n",
       "      <td>0.00</td>\n",
       "      <td>1</td>\n",
       "      <td>N</td>\n",
       "      <td>41</td>\n",
       "      <td>264</td>\n",
       "      <td>2</td>\n",
       "      <td>10.50</td>\n",
       "      <td>0.0</td>\n",
       "      <td>0.5</td>\n",
       "      <td>0.00</td>\n",
       "      <td>0.00</td>\n",
       "      <td>0.3</td>\n",
       "      <td>11.30</td>\n",
       "      <td>0.0</td>\n",
       "    </tr>\n",
       "    <tr>\n",
       "      <th>795</th>\n",
       "      <td>101135030</td>\n",
       "      <td>1</td>\n",
       "      <td>2017-11-30 07:11:34</td>\n",
       "      <td>2017-11-30 07:11:34</td>\n",
       "      <td>1</td>\n",
       "      <td>0.00</td>\n",
       "      <td>1</td>\n",
       "      <td>N</td>\n",
       "      <td>246</td>\n",
       "      <td>264</td>\n",
       "      <td>2</td>\n",
       "      <td>8.00</td>\n",
       "      <td>0.0</td>\n",
       "      <td>0.5</td>\n",
       "      <td>0.00</td>\n",
       "      <td>0.00</td>\n",
       "      <td>0.3</td>\n",
       "      <td>8.80</td>\n",
       "      <td>0.0</td>\n",
       "    </tr>\n",
       "    <tr>\n",
       "      <th>6908</th>\n",
       "      <td>24162045</td>\n",
       "      <td>2</td>\n",
       "      <td>2017-03-26 02:07:08</td>\n",
       "      <td>2017-03-26 02:07:12</td>\n",
       "      <td>1</td>\n",
       "      <td>0.00</td>\n",
       "      <td>5</td>\n",
       "      <td>N</td>\n",
       "      <td>61</td>\n",
       "      <td>61</td>\n",
       "      <td>1</td>\n",
       "      <td>18.00</td>\n",
       "      <td>0.0</td>\n",
       "      <td>0.0</td>\n",
       "      <td>2.00</td>\n",
       "      <td>0.00</td>\n",
       "      <td>0.3</td>\n",
       "      <td>20.30</td>\n",
       "      <td>0.0</td>\n",
       "    </tr>\n",
       "    <tr>\n",
       "      <th>13561</th>\n",
       "      <td>14504365</td>\n",
       "      <td>1</td>\n",
       "      <td>2017-02-23 04:06:31</td>\n",
       "      <td>2017-02-23 04:06:54</td>\n",
       "      <td>2</td>\n",
       "      <td>0.00</td>\n",
       "      <td>5</td>\n",
       "      <td>N</td>\n",
       "      <td>175</td>\n",
       "      <td>175</td>\n",
       "      <td>3</td>\n",
       "      <td>32.00</td>\n",
       "      <td>0.0</td>\n",
       "      <td>0.0</td>\n",
       "      <td>0.00</td>\n",
       "      <td>0.00</td>\n",
       "      <td>0.3</td>\n",
       "      <td>32.30</td>\n",
       "      <td>0.0</td>\n",
       "    </tr>\n",
       "    <tr>\n",
       "      <th>12238</th>\n",
       "      <td>95544923</td>\n",
       "      <td>1</td>\n",
       "      <td>2017-11-11 09:28:13</td>\n",
       "      <td>2017-11-11 09:28:27</td>\n",
       "      <td>2</td>\n",
       "      <td>0.00</td>\n",
       "      <td>1</td>\n",
       "      <td>N</td>\n",
       "      <td>145</td>\n",
       "      <td>145</td>\n",
       "      <td>2</td>\n",
       "      <td>2.50</td>\n",
       "      <td>0.0</td>\n",
       "      <td>0.5</td>\n",
       "      <td>0.00</td>\n",
       "      <td>0.00</td>\n",
       "      <td>0.3</td>\n",
       "      <td>3.30</td>\n",
       "      <td>0.0</td>\n",
       "    </tr>\n",
       "    <tr>\n",
       "      <th>...</th>\n",
       "      <td>...</td>\n",
       "      <td>...</td>\n",
       "      <td>...</td>\n",
       "      <td>...</td>\n",
       "      <td>...</td>\n",
       "      <td>...</td>\n",
       "      <td>...</td>\n",
       "      <td>...</td>\n",
       "      <td>...</td>\n",
       "      <td>...</td>\n",
       "      <td>...</td>\n",
       "      <td>...</td>\n",
       "      <td>...</td>\n",
       "      <td>...</td>\n",
       "      <td>...</td>\n",
       "      <td>...</td>\n",
       "      <td>...</td>\n",
       "      <td>...</td>\n",
       "      <td>...</td>\n",
       "    </tr>\n",
       "    <tr>\n",
       "      <th>29</th>\n",
       "      <td>94052446</td>\n",
       "      <td>2</td>\n",
       "      <td>2017-11-06 08:30:50</td>\n",
       "      <td>2017-11-07 12:00:00</td>\n",
       "      <td>1</td>\n",
       "      <td>30.83</td>\n",
       "      <td>1</td>\n",
       "      <td>N</td>\n",
       "      <td>132</td>\n",
       "      <td>23</td>\n",
       "      <td>1</td>\n",
       "      <td>80.00</td>\n",
       "      <td>0.5</td>\n",
       "      <td>0.5</td>\n",
       "      <td>18.56</td>\n",
       "      <td>11.52</td>\n",
       "      <td>0.3</td>\n",
       "      <td>111.38</td>\n",
       "      <td>1649.0</td>\n",
       "    </tr>\n",
       "    <tr>\n",
       "      <th>10291</th>\n",
       "      <td>76319330</td>\n",
       "      <td>2</td>\n",
       "      <td>2017-09-11 11:41:04</td>\n",
       "      <td>2017-09-11 12:18:58</td>\n",
       "      <td>1</td>\n",
       "      <td>31.95</td>\n",
       "      <td>4</td>\n",
       "      <td>N</td>\n",
       "      <td>138</td>\n",
       "      <td>265</td>\n",
       "      <td>2</td>\n",
       "      <td>131.00</td>\n",
       "      <td>0.0</td>\n",
       "      <td>0.5</td>\n",
       "      <td>0.00</td>\n",
       "      <td>0.00</td>\n",
       "      <td>0.3</td>\n",
       "      <td>131.80</td>\n",
       "      <td>37.0</td>\n",
       "    </tr>\n",
       "    <tr>\n",
       "      <th>6064</th>\n",
       "      <td>49894023</td>\n",
       "      <td>2</td>\n",
       "      <td>2017-06-13 12:30:22</td>\n",
       "      <td>2017-06-13 01:37:51</td>\n",
       "      <td>1</td>\n",
       "      <td>32.72</td>\n",
       "      <td>3</td>\n",
       "      <td>N</td>\n",
       "      <td>138</td>\n",
       "      <td>1</td>\n",
       "      <td>1</td>\n",
       "      <td>107.00</td>\n",
       "      <td>0.0</td>\n",
       "      <td>0.0</td>\n",
       "      <td>55.50</td>\n",
       "      <td>16.26</td>\n",
       "      <td>0.3</td>\n",
       "      <td>179.06</td>\n",
       "      <td>-653.0</td>\n",
       "    </tr>\n",
       "    <tr>\n",
       "      <th>13861</th>\n",
       "      <td>40523668</td>\n",
       "      <td>2</td>\n",
       "      <td>2017-05-19 08:20:21</td>\n",
       "      <td>2017-05-19 09:20:30</td>\n",
       "      <td>1</td>\n",
       "      <td>33.92</td>\n",
       "      <td>5</td>\n",
       "      <td>N</td>\n",
       "      <td>229</td>\n",
       "      <td>265</td>\n",
       "      <td>1</td>\n",
       "      <td>200.01</td>\n",
       "      <td>0.0</td>\n",
       "      <td>0.5</td>\n",
       "      <td>51.64</td>\n",
       "      <td>5.76</td>\n",
       "      <td>0.3</td>\n",
       "      <td>258.21</td>\n",
       "      <td>60.0</td>\n",
       "    </tr>\n",
       "    <tr>\n",
       "      <th>9280</th>\n",
       "      <td>51810714</td>\n",
       "      <td>2</td>\n",
       "      <td>2017-06-18 11:33:25</td>\n",
       "      <td>2017-06-19 12:12:38</td>\n",
       "      <td>2</td>\n",
       "      <td>33.96</td>\n",
       "      <td>5</td>\n",
       "      <td>N</td>\n",
       "      <td>132</td>\n",
       "      <td>265</td>\n",
       "      <td>2</td>\n",
       "      <td>150.00</td>\n",
       "      <td>0.0</td>\n",
       "      <td>0.0</td>\n",
       "      <td>0.00</td>\n",
       "      <td>0.00</td>\n",
       "      <td>0.3</td>\n",
       "      <td>150.30</td>\n",
       "      <td>1479.0</td>\n",
       "    </tr>\n",
       "  </tbody>\n",
       "</table>\n",
       "<p>22699 rows × 19 columns</p>\n",
       "</div>"
      ],
      "text/plain": [
       "       Unnamed: 0  VendorID tpep_pickup_datetime tpep_dropoff_datetime  \\\n",
       "22026    63642923         1  2017-07-27 07:44:24   2017-07-27 07:44:24   \n",
       "795     101135030         1  2017-11-30 07:11:34   2017-11-30 07:11:34   \n",
       "6908     24162045         2  2017-03-26 02:07:08   2017-03-26 02:07:12   \n",
       "13561    14504365         1  2017-02-23 04:06:31   2017-02-23 04:06:54   \n",
       "12238    95544923         1  2017-11-11 09:28:13   2017-11-11 09:28:27   \n",
       "...           ...       ...                  ...                   ...   \n",
       "29       94052446         2  2017-11-06 08:30:50   2017-11-07 12:00:00   \n",
       "10291    76319330         2  2017-09-11 11:41:04   2017-09-11 12:18:58   \n",
       "6064     49894023         2  2017-06-13 12:30:22   2017-06-13 01:37:51   \n",
       "13861    40523668         2  2017-05-19 08:20:21   2017-05-19 09:20:30   \n",
       "9280     51810714         2  2017-06-18 11:33:25   2017-06-19 12:12:38   \n",
       "\n",
       "       passenger_count  trip_distance  RatecodeID store_and_fwd_flag  \\\n",
       "22026                1           0.00           1                  N   \n",
       "795                  1           0.00           1                  N   \n",
       "6908                 1           0.00           5                  N   \n",
       "13561                2           0.00           5                  N   \n",
       "12238                2           0.00           1                  N   \n",
       "...                ...            ...         ...                ...   \n",
       "29                   1          30.83           1                  N   \n",
       "10291                1          31.95           4                  N   \n",
       "6064                 1          32.72           3                  N   \n",
       "13861                1          33.92           5                  N   \n",
       "9280                 2          33.96           5                  N   \n",
       "\n",
       "       PULocationID  DOLocationID  payment_type  fare_amount  extra  mta_tax  \\\n",
       "22026            41           264             2        10.50    0.0      0.5   \n",
       "795             246           264             2         8.00    0.0      0.5   \n",
       "6908             61            61             1        18.00    0.0      0.0   \n",
       "13561           175           175             3        32.00    0.0      0.0   \n",
       "12238           145           145             2         2.50    0.0      0.5   \n",
       "...             ...           ...           ...          ...    ...      ...   \n",
       "29              132            23             1        80.00    0.5      0.5   \n",
       "10291           138           265             2       131.00    0.0      0.5   \n",
       "6064            138             1             1       107.00    0.0      0.0   \n",
       "13861           229           265             1       200.01    0.0      0.5   \n",
       "9280            132           265             2       150.00    0.0      0.0   \n",
       "\n",
       "       tip_amount  tolls_amount  improvement_surcharge  total_amount  duration  \n",
       "22026        0.00          0.00                    0.3         11.30       0.0  \n",
       "795          0.00          0.00                    0.3          8.80       0.0  \n",
       "6908         2.00          0.00                    0.3         20.30       0.0  \n",
       "13561        0.00          0.00                    0.3         32.30       0.0  \n",
       "12238        0.00          0.00                    0.3          3.30       0.0  \n",
       "...           ...           ...                    ...           ...       ...  \n",
       "29          18.56         11.52                    0.3        111.38    1649.0  \n",
       "10291        0.00          0.00                    0.3        131.80      37.0  \n",
       "6064        55.50         16.26                    0.3        179.06    -653.0  \n",
       "13861       51.64          5.76                    0.3        258.21      60.0  \n",
       "9280         0.00          0.00                    0.3        150.30    1479.0  \n",
       "\n",
       "[22699 rows x 19 columns]"
      ]
     },
     "execution_count": 13,
     "metadata": {},
     "output_type": "execute_result"
    }
   ],
   "source": [
    "df0.sort_values(by= \"trip_distance\",ascending=True)"
   ]
  },
  {
   "cell_type": "code",
   "execution_count": 14,
   "metadata": {},
   "outputs": [
    {
     "data": {
      "text/plain": [
       "0.0    148\n",
       "Name: trip_distance, dtype: int64"
      ]
     },
     "execution_count": 14,
     "metadata": {},
     "output_type": "execute_result"
    }
   ],
   "source": [
    "df_trip_0 = df0[df0[\"trip_distance\"]==0]\n",
    "df_trip_0[\"trip_distance\"].value_counts()\n"
   ]
  },
  {
   "cell_type": "markdown",
   "metadata": {},
   "source": [
    "#### `fare_amount` outliers"
   ]
  },
  {
   "cell_type": "code",
   "execution_count": 15,
   "metadata": {},
   "outputs": [
    {
     "name": "stdout",
     "output_type": "stream",
     "text": [
      "12944   -120.00\n",
      "11204     -4.50\n",
      "20698     -4.50\n",
      "14714     -4.00\n",
      "17602     -4.00\n",
      "          ...  \n",
      "12511    175.00\n",
      "15474    200.00\n",
      "13861    200.01\n",
      "20312    450.00\n",
      "8476     999.99\n",
      "Name: fare_amount, Length: 22699, dtype: float64\n",
      "\n",
      " 0.0      6\n",
      "-2.5      4\n",
      "-3.5      3\n",
      "-3.0      2\n",
      "-4.5      2\n",
      "-4.0      2\n",
      "-120.0    1\n",
      "Name: fare_amount, dtype: int64\n"
     ]
    }
   ],
   "source": [
    "print(df0[\"fare_amount\"].sort_values(ascending=True))\n",
    "print()\n",
    "df_fare_0 = df0[df0[\"fare_amount\"]<=0]\n",
    "print(df_fare_0[\"fare_amount\"].value_counts())\n",
    "\n"
   ]
  },
  {
   "cell_type": "code",
   "execution_count": 16,
   "metadata": {},
   "outputs": [
    {
     "name": "stdout",
     "output_type": "stream",
     "text": [
      "Min:  -120.0\n",
      "New Min:  0.0\n"
     ]
    }
   ],
   "source": [
    "print(\"Min: \",df0[\"fare_amount\"].min())\n",
    "df0.loc[df0[\"fare_amount\"]<=0,\"fare_amount\"]=0\n",
    "print(\"New Min: \",df0[\"fare_amount\"].min())"
   ]
  },
  {
   "cell_type": "code",
   "execution_count": 17,
   "metadata": {},
   "outputs": [
    {
     "name": "stdout",
     "output_type": "stream",
     "text": [
      "fare_amount\n",
      "q3: 14.5\n",
      "upper_threshold: 62.5\n",
      "count    22699.000000\n",
      "mean        12.897913\n",
      "std         10.541137\n",
      "min          0.000000\n",
      "25%          6.500000\n",
      "50%          9.500000\n",
      "75%         14.500000\n",
      "max         62.500000\n",
      "Name: fare_amount, dtype: float64\n",
      "\n"
     ]
    }
   ],
   "source": [
    "\n",
    "def outlier(df,column_list, iqr_factor):\n",
    "    for col in column_list:\n",
    "      \n",
    "        df.loc[df[col] < 0, col] = 0\n",
    "        q1 = df[col].quantile(0.25)\n",
    "        q3 = df[col].quantile(0.75)\n",
    "        iqr = q3 - q1\n",
    "        upper_threshold = q3 + (iqr_factor * iqr)\n",
    "        print(col)\n",
    "        print('q3:', q3)\n",
    "        print('upper_threshold:', upper_threshold)\n",
    "\n",
    "        df.loc[df[col] > upper_threshold, col] = upper_threshold\n",
    "        print(df[col].describe())\n",
    "        print()\n",
    "    \n",
    "outlier(df0,['fare_amount'],6)\n",
    "\n"
   ]
  },
  {
   "cell_type": "code",
   "execution_count": 18,
   "metadata": {},
   "outputs": [
    {
     "data": {
      "image/png": "[encoded data removed]",
      "text/plain": [
       "<Figure size 432x288 with 1 Axes>"
      ]
     },
     "metadata": {
      "needs_background": "light"
     },
     "output_type": "display_data"
    }
   ],
   "source": [
    "sns.boxplot(x=df0[\"fare_amount\"])\n",
    "plt.show()"
   ]
  },
  {
   "cell_type": "markdown",
   "metadata": {},
   "source": [
    "#### `duration` outliers\n"
   ]
  },
  {
   "cell_type": "code",
   "execution_count": 19,
   "metadata": {},
   "outputs": [
    {
     "data": {
      "text/plain": [
       "14322    2144.0\n",
       "5478     2119.0\n",
       "8195     2018.0\n",
       "5051     1772.0\n",
       "29       1649.0\n",
       "          ...  \n",
       "12314    -717.0\n",
       "4987     -717.0\n",
       "18119    -718.0\n",
       "1307     -718.0\n",
       "20129    -718.0\n",
       "Name: duration, Length: 22699, dtype: float64"
      ]
     },
     "execution_count": 19,
     "metadata": {},
     "output_type": "execute_result"
    }
   ],
   "source": [
    "df0[\"duration\"].sort_values(ascending=False)"
   ]
  },
  {
   "cell_type": "code",
   "execution_count": 20,
   "metadata": {},
   "outputs": [
    {
     "data": {
      "text/plain": [
       "0.0"
      ]
     },
     "execution_count": 20,
     "metadata": {},
     "output_type": "execute_result"
    }
   ],
   "source": [
    "df0.loc[df0[\"duration\"]<0,\"duration\"]=0\n",
    "df0[\"duration\"].min()"
   ]
  },
  {
   "cell_type": "code",
   "execution_count": 21,
   "metadata": {},
   "outputs": [
    {
     "name": "stdout",
     "output_type": "stream",
     "text": [
      "duration\n",
      "q3: 18.0\n",
      "upper_threshold: 90.0\n",
      "count    22699.000000\n",
      "mean        14.201066\n",
      "std         13.821152\n",
      "min          0.000000\n",
      "25%          6.000000\n",
      "50%         10.000000\n",
      "75%         18.000000\n",
      "max         90.000000\n",
      "Name: duration, dtype: float64\n",
      "\n"
     ]
    }
   ],
   "source": [
    "outlier(df0,['duration'],6)"
   ]
  },
  {
   "cell_type": "code",
   "execution_count": 22,
   "metadata": {},
   "outputs": [
    {
     "data": {
      "image/png": "[encoded data removed]",
      "text/plain": [
       "<Figure size 432x288 with 1 Axes>"
      ]
     },
     "metadata": {
      "needs_background": "light"
     },
     "output_type": "display_data"
    }
   ],
   "source": [
    "sns.boxplot(x=df0[\"duration\"])\n",
    "plt.show()"
   ]
  },
  {
   "cell_type": "markdown",
   "metadata": {},
   "source": [
    "### Feature engineering"
   ]
  },
  {
   "cell_type": "markdown",
   "metadata": {},
   "source": [
    "#### Create `mean_distance` column"
   ]
  },
  {
   "cell_type": "code",
   "execution_count": 23,
   "metadata": {},
   "outputs": [
    {
     "data": {
      "text/plain": [
       "0    100-231\n",
       "1     186-43\n",
       "2    262-236\n",
       "3     188-97\n",
       "4      4-112\n",
       "Name: pickup_dropoff, dtype: object"
      ]
     },
     "execution_count": 23,
     "metadata": {},
     "output_type": "execute_result"
    }
   ],
   "source": [
    "df0[\"pickup_dropoff\"]=df0.PULocationID.astype(str) + \"-\" + df0.DOLocationID.astype(str)\n",
    "df0[\"pickup_dropoff\"].head()"
   ]
  },
  {
   "cell_type": "code",
   "execution_count": 24,
   "metadata": {},
   "outputs": [
    {
     "data": {
      "text/plain": [
       "pickup_dropoff\n",
       "1-1         2.433333\n",
       "10-148     15.700000\n",
       "100-1      16.890000\n",
       "100-100     0.253333\n",
       "100-107     1.180000\n",
       "Name: trip_distance, dtype: float64"
      ]
     },
     "execution_count": 24,
     "metadata": {},
     "output_type": "execute_result"
    }
   ],
   "source": [
    "grouped = df0.groupby([\"pickup_dropoff\"])[\"trip_distance\"].mean()\n",
    "grouped.head()"
   ]
  },
  {
   "cell_type": "code",
   "execution_count": 25,
   "metadata": {},
   "outputs": [
    {
     "data": {
      "text/plain": [
       "{'1-1': 2.433333333333333,\n",
       " '10-148': 15.7,\n",
       " '100-1': 16.89,\n",
       " '100-100': 0.25333333333333335,\n",
       " '100-107': 1.18,\n",
       " '100-113': 2.024,\n",
       " '100-114': 1.94,\n",
       " '100-12': 4.55,\n",
       " '100-125': 2.84,\n",
       " '100-13': 4.201666666666667,\n",
       " '100-132': 17.2175,\n",
       " '100-137': 1.299,\n",
       " '100-138': 10.432857142857143,\n",
       " '100-140': 2.746,\n",
       " '100-141': 2.11,\n",
       " '100-142': 1.6958333333333335,\n",
       " '100-143': 1.5825,\n",
       " '100-144': 3.0066666666666664,\n",
       " '100-148': 4.1066666666666665,\n",
       " '100-151': 3.668,\n",
       " '100-152': 4.9,\n",
       " '100-158': 1.938,\n",
       " '100-161': 0.9813888888888889,\n",
       " '100-162': 1.2163636363636363,\n",
       " '100-163': 1.2656,\n",
       " '100-164': 0.841,\n",
       " '100-166': 5.199999999999999,\n",
       " '100-170': 0.8548,\n",
       " '100-177': 12.0,\n",
       " '100-181': 9.34,\n",
       " '100-186': 0.6404761904761904,\n",
       " '100-193': 4.39,\n",
       " '100-198': 9.01,\n",
       " '100-202': 5.3,\n",
       " '100-209': 4.43,\n",
       " '100-211': 2.48,\n",
       " '100-224': 1.9500000000000002,\n",
       " '100-225': 7.5,\n",
       " '100-229': 1.7850000000000001,\n",
       " '100-230': 0.72975,\n",
       " '100-231': 3.5216666666666665,\n",
       " '100-232': 3.8449999999999998,\n",
       " '100-233': 1.2458333333333333,\n",
       " '100-234': 1.2545454545454546,\n",
       " '100-236': 3.3375,\n",
       " '100-237': 2.5566666666666666,\n",
       " '100-238': 3.3560000000000003,\n",
       " '100-239': 2.327142857142857,\n",
       " '100-243': 8.77,\n",
       " '100-244': 7.9,\n",
       " '100-246': 1.1746666666666667,\n",
       " '100-249': 1.8066666666666666,\n",
       " '100-25': 7.36,\n",
       " '100-255': 6.35,\n",
       " '100-256': 5.859999999999999,\n",
       " '100-261': 3.8075,\n",
       " '100-262': 3.8200000000000003,\n",
       " '100-263': 3.4,\n",
       " '100-39': 22.6,\n",
       " '100-4': 2.6999999999999997,\n",
       " '100-40': 7.23,\n",
       " '100-41': 4.6,\n",
       " '100-42': 6.779999999999999,\n",
       " '100-43': 2.033333333333333,\n",
       " '100-45': 3.63,\n",
       " '100-48': 0.8522727272727273,\n",
       " '100-49': 7.35,\n",
       " '100-50': 1.1800000000000002,\n",
       " '100-66': 4.7,\n",
       " '100-68': 0.9942857142857143,\n",
       " '100-7': 4.9,\n",
       " '100-74': 4.53,\n",
       " '100-75': 4.03,\n",
       " '100-79': 2.608571428571428,\n",
       " '100-87': 5.03,\n",
       " '100-88': 5.495,\n",
       " '100-90': 1.1228571428571428,\n",
       " '100-95': 9.0,\n",
       " '106-106': 0.02,\n",
       " '106-181': 1.1,\n",
       " '106-228': 1.24,\n",
       " '106-231': 3.8,\n",
       " '106-40': 0.8,\n",
       " '107-1': 15.55,\n",
       " '107-100': 1.436,\n",
       " '107-107': 0.48814814814814816,\n",
       " '107-113': 0.8969230769230769,\n",
       " '107-114': 1.207142857142857,\n",
       " '107-125': 1.8,\n",
       " '107-127': 11.57,\n",
       " '107-13': 3.8733333333333335,\n",
       " '107-130': 12.43,\n",
       " '107-132': 16.755,\n",
       " '107-137': 0.6828947368421052,\n",
       " '107-138': 10.385,\n",
       " '107-140': 2.801428571428571,\n",
       " '107-141': 2.981666666666667,\n",
       " '107-142': 3.228,\n",
       " '107-143': 4.3,\n",
       " '107-144': 1.61625,\n",
       " '107-145': 3.5300000000000002,\n",
       " '107-146': 4.3,\n",
       " '107-147': 8.11,\n",
       " '107-148': 1.7266666666666666,\n",
       " '107-152': 6.62,\n",
       " '107-158': 1.7777777777777777,\n",
       " '107-161': 1.7091666666666667,\n",
       " '107-162': 1.5677272727272729,\n",
       " '107-163': 2.4775,\n",
       " '107-164': 0.748,\n",
       " '107-170': 1.0014285714285716,\n",
       " '107-186': 1.4310344827586208,\n",
       " '107-196': 7.890000000000001,\n",
       " '107-202': 5.86,\n",
       " '107-209': 3.496,\n",
       " '107-21': 11.5,\n",
       " '107-211': 1.7342857142857144,\n",
       " '107-223': 5.7,\n",
       " '107-224': 0.8533333333333334,\n",
       " '107-229': 1.911111111111111,\n",
       " '107-23': 17.72,\n",
       " '107-230': 2.1075,\n",
       " '107-231': 3.278,\n",
       " '107-232': 2.1418181818181816,\n",
       " '107-233': 1.3471428571428572,\n",
       " '107-234': 0.6842424242424242,\n",
       " '107-236': 3.165,\n",
       " '107-237': 2.2516666666666665,\n",
       " '107-238': 4.986666666666667,\n",
       " '107-244': 8.84,\n",
       " '107-246': 1.577142857142857,\n",
       " '107-249': 1.3976470588235295,\n",
       " '107-25': 4.5,\n",
       " '107-256': 3.8666666666666667,\n",
       " '107-257': 9.0,\n",
       " '107-26': 10.33,\n",
       " '107-261': 2.19,\n",
       " '107-262': 3.5725,\n",
       " '107-263': 3.66875,\n",
       " '107-265': 4.5,\n",
       " '107-36': 5.6,\n",
       " '107-37': 4.9,\n",
       " '107-4': 1.16,\n",
       " '107-41': 5.975,\n",
       " '107-42': 7.0,\n",
       " '107-43': 2.8,\n",
       " '107-45': 2.1375,\n",
       " '107-48': 2.5460000000000003,\n",
       " '107-49': 5.0,\n",
       " '107-66': 3.58,\n",
       " '107-68': 1.3646666666666667,\n",
       " '107-7': 5.95,\n",
       " '107-74': 5.085,\n",
       " '107-75': 4.930000000000001,\n",
       " '107-79': 0.9903225806451613,\n",
       " '107-80': 4.7,\n",
       " '107-82': 7.32,\n",
       " '107-87': 3.5,\n",
       " '107-88': 3.501666666666667,\n",
       " '107-89': 6.97,\n",
       " '107-90': 0.9226666666666666,\n",
       " '112-112': 0.7,\n",
       " '112-223': 4.05,\n",
       " '112-263': 8.0,\n",
       " '112-49': 3.1,\n",
       " '112-66': 4.57,\n",
       " '112-80': 0.41500000000000004,\n",
       " '113-100': 1.9775,\n",
       " '113-106': 4.69,\n",
       " '113-107': 1.0516666666666667,\n",
       " '113-112': 4.5,\n",
       " '113-113': 0.8346153846153845,\n",
       " '113-114': 0.7644444444444445,\n",
       " '113-116': 8.55,\n",
       " '113-125': 1.2175,\n",
       " '113-13': 2.2085714285714286,\n",
       " '113-137': 1.3325,\n",
       " '113-138': 10.4,\n",
       " '113-14': 15.62,\n",
       " '113-140': 3.3,\n",
       " '113-141': 3.6333333333333333,\n",
       " '113-142': 3.6,\n",
       " '113-143': 4.39,\n",
       " '113-144': 1.1291666666666667,\n",
       " '113-146': 5.2,\n",
       " '113-148': 1.1885714285714286,\n",
       " '113-152': 8.0,\n",
       " '113-158': 0.9530769230769232,\n",
       " '113-161': 2.2449999999999997,\n",
       " '113-162': 2.2125,\n",
       " '113-163': 2.515,\n",
       " '113-164': 1.4830769230769232,\n",
       " '113-17': 4.38,\n",
       " '113-170': 1.5743749999999999,\n",
       " '113-181': 5.546666666666667,\n",
       " '113-186': 1.4091666666666667,\n",
       " '113-209': 2.893333333333333,\n",
       " '113-211': 1.0183333333333333,\n",
       " '113-22': 12.0,\n",
       " '113-224': 1.4649999999999999,\n",
       " '113-230': 2.11,\n",
       " '113-231': 1.7366666666666668,\n",
       " '113-232': 2.1375,\n",
       " '113-233': 2.1500000000000004,\n",
       " '113-234': 0.8635714285714285,\n",
       " '113-236': 3.9924999999999997,\n",
       " '113-237': 3.412,\n",
       " '113-238': 5.324,\n",
       " '113-239': 5.054,\n",
       " '113-243': 12.4,\n",
       " '113-244': 9.4,\n",
       " '113-246': 2.21,\n",
       " '113-249': 0.7723076923076924,\n",
       " '113-255': 3.7,\n",
       " '113-256': 3.3,\n",
       " '113-261': 2.0033333333333334,\n",
       " '113-262': 4.4,\n",
       " '113-263': 4.0,\n",
       " '113-264': 0.0,\n",
       " '113-33': 3.8266666666666667,\n",
       " '113-36': 6.3,\n",
       " '113-4': 1.09,\n",
       " '113-41': 9.2,\n",
       " '113-42': 8.34,\n",
       " '113-45': 2.02,\n",
       " '113-48': 2.2960000000000003,\n",
       " '113-50': 2.86,\n",
       " '113-66': 3.2,\n",
       " '113-68': 1.1981818181818182,\n",
       " '113-79': 0.7782352941176471,\n",
       " '113-80': 5.31,\n",
       " '113-87': 3.135,\n",
       " '113-88': 2.5999999999999996,\n",
       " '113-90': 0.8544444444444445,\n",
       " '113-94': 12.5,\n",
       " '114-100': 2.3966666666666665,\n",
       " '114-107': 1.2999999999999998,\n",
       " '114-112': 5.13,\n",
       " '114-113': 0.61,\n",
       " '114-114': 0.5481818181818182,\n",
       " '114-116': 9.1,\n",
       " '114-125': 0.752,\n",
       " '114-13': 1.9000000000000001,\n",
       " '114-137': 1.8425,\n",
       " '114-14': 11.11,\n",
       " '114-140': 4.1,\n",
       " '114-141': 3.9333333333333336,\n",
       " '114-142': 3.8766666666666665,\n",
       " '114-143': 4.745,\n",
       " '114-144': 0.84875,\n",
       " '114-145': 6.53,\n",
       " '114-148': 0.9109090909090909,\n",
       " '114-151': 7.3,\n",
       " '114-158': 1.356,\n",
       " '114-161': 2.80375,\n",
       " '114-162': 2.7075,\n",
       " '114-163': 3.5,\n",
       " '114-164': 1.7079999999999997,\n",
       " '114-166': 7.55,\n",
       " '114-169': 11.6,\n",
       " '114-170': 2.0833333333333335,\n",
       " '114-181': 3.77,\n",
       " '114-186': 1.6784615384615384,\n",
       " '114-190': 4.7,\n",
       " '114-209': 1.66,\n",
       " '114-211': 0.45,\n",
       " '114-217': 2.4,\n",
       " '114-223': 7.6,\n",
       " '114-224': 5.23,\n",
       " '114-225': 4.41,\n",
       " '114-229': 3.0,\n",
       " '114-230': 2.8775,\n",
       " '114-231': 1.2021428571428572,\n",
       " '114-232': 1.3399999999999999,\n",
       " '114-233': 2.3375,\n",
       " '114-234': 1.3515384615384616,\n",
       " '114-236': 4.5649999999999995,\n",
       " '114-237': 3.716666666666667,\n",
       " '114-238': 5.89,\n",
       " '114-239': 4.99,\n",
       " '114-24': 6.673333333333333,\n",
       " '114-243': 11.23,\n",
       " '114-244': 8.9,\n",
       " '114-246': 2.0066666666666664,\n",
       " '114-249': 0.8476923076923076,\n",
       " '114-255': 3.6879999999999997,\n",
       " '114-257': 4.96,\n",
       " '114-260': 7.08,\n",
       " '114-261': 1.7333333333333334,\n",
       " '114-262': 5.505,\n",
       " '114-263': 4.75,\n",
       " '114-36': 5.98,\n",
       " '114-4': 1.35,\n",
       " '114-43': 3.6,\n",
       " '114-45': 1.0866666666666667,\n",
       " '114-48': 3.3966666666666665,\n",
       " '114-49': 3.965,\n",
       " '114-50': 3.315,\n",
       " '114-62': 5.7,\n",
       " '114-65': 2.8,\n",
       " '114-66': 3.3,\n",
       " '114-68': 1.7022222222222223,\n",
       " '114-69': 10.05,\n",
       " '114-7': 6.4,\n",
       " '114-79': 1.0336363636363635,\n",
       " '114-87': 2.035,\n",
       " '114-90': 1.3199999999999998,\n",
       " '114-97': 3.7,\n",
       " '116-116': 0.47800000000000004,\n",
       " '116-119': 2.9,\n",
       " '116-132': 19.05,\n",
       " '116-159': 1.64,\n",
       " '116-162': 6.1,\n",
       " '116-166': 1.3275000000000001,\n",
       " '116-186': 6.42,\n",
       " '116-230': 6.38,\n",
       " '116-238': 3.2975000000000003,\n",
       " '116-239': 4.52,\n",
       " '116-244': 1.085,\n",
       " '116-41': 1.7149999999999999,\n",
       " '116-42': 1.5825,\n",
       " '116-68': 6.31,\n",
       " '116-74': 2.08,\n",
       " '116-75': 4.23,\n",
       " '116-79': 9.3,\n",
       " '118-118': 1.43,\n",
       " '12-100': 4.0,\n",
       " '12-13': 0.9,\n",
       " '12-142': 5.56,\n",
       " '12-144': 2.08,\n",
       " '12-151': 8.3,\n",
       " '12-163': 5.5,\n",
       " '12-164': 5.38,\n",
       " '12-170': 4.9,\n",
       " '12-48': 4.67,\n",
       " '123-123': 0.93,\n",
       " '125-1': 14.67,\n",
       " '125-100': 2.1100000000000003,\n",
       " '125-106': 5.0,\n",
       " '125-107': 2.1316666666666664,\n",
       " '125-113': 0.7,\n",
       " '125-114': 0.825,\n",
       " '125-129': 8.13,\n",
       " '125-13': 1.3,\n",
       " '125-132': 19.88,\n",
       " '125-137': 2.68,\n",
       " '125-138': 10.4575,\n",
       " '125-140': 4.955,\n",
       " '125-141': 6.5,\n",
       " '125-142': 4.8,\n",
       " '125-144': 0.6583333333333333,\n",
       " '125-148': 1.3885714285714283,\n",
       " '125-151': 5.43,\n",
       " '125-158': 0.7375,\n",
       " '125-161': 2.783333333333333,\n",
       " '125-162': 3.245,\n",
       " '125-163': 3.4000000000000004,\n",
       " '125-164': 2.615,\n",
       " '125-170': 4.0275,\n",
       " '125-186': 1.8719999999999999,\n",
       " '125-188': 5.88,\n",
       " '125-211': 0.66,\n",
       " '125-227': 9.4,\n",
       " '125-230': 2.71,\n",
       " '125-231': 1.0077777777777779,\n",
       " '125-234': 1.7242857142857144,\n",
       " '125-236': 4.8,\n",
       " '125-237': 3.47,\n",
       " '125-238': 6.09,\n",
       " '125-239': 5.05,\n",
       " '125-244': 9.07,\n",
       " '125-246': 2.265,\n",
       " '125-249': 0.6785714285714286,\n",
       " '125-255': 4.050000000000001,\n",
       " '125-256': 3.1,\n",
       " '125-261': 2.01,\n",
       " '125-263': 5.949999999999999,\n",
       " '125-42': 8.16,\n",
       " '125-48': 2.74,\n",
       " '125-49': 4.21,\n",
       " '125-68': 1.93,\n",
       " '125-75': 7.2,\n",
       " '125-79': 1.5642857142857143,\n",
       " '125-87': 2.0875,\n",
       " '125-88': 2.505,\n",
       " '125-90': 1.435,\n",
       " '125-97': 4.835,\n",
       " '127-243': 1.92,\n",
       " '128-238': 7.3,\n",
       " '129-129': 0.808,\n",
       " '129-160': 6.3,\n",
       " '129-164': 1.96,\n",
       " '129-173': 2.1,\n",
       " '129-207': 1.2,\n",
       " '129-70': 1.69,\n",
       " '13-100': 3.9799999999999995,\n",
       " '13-107': 4.665,\n",
       " '13-113': 2.75,\n",
       " '13-114': 2.0975,\n",
       " '13-12': 0.9,\n",
       " '13-125': 0.93,\n",
       " '13-13': 0.518,\n",
       " '13-132': 24.505,\n",
       " '13-137': 5.045,\n",
       " '13-138': 15.219999999999999,\n",
       " '13-14': 7.1,\n",
       " '13-140': 6.955,\n",
       " '13-141': 7.4399999999999995,\n",
       " '13-142': 5.1,\n",
       " '13-143': 5.15,\n",
       " '13-144': 2.1500000000000004,\n",
       " '13-148': 3.3075,\n",
       " '13-158': 2.35,\n",
       " '13-161': 5.9030000000000005,\n",
       " '13-162': 6.3725,\n",
       " '13-163': 5.172857142857143,\n",
       " '13-164': 6.02,\n",
       " '13-166': 7.46,\n",
       " '13-17': 5.6,\n",
       " '13-170': 6.166666666666667,\n",
       " '13-181': 3.9,\n",
       " '13-186': 3.7733333333333334,\n",
       " '13-209': 1.8,\n",
       " '13-211': 1.7325,\n",
       " '13-224': 4.8,\n",
       " '13-225': 7.51,\n",
       " '13-226': 8.3,\n",
       " '13-229': 6.343999999999999,\n",
       " '13-230': 4.56,\n",
       " '13-231': 0.9583333333333334,\n",
       " '13-232': 3.13,\n",
       " '13-233': 6.2,\n",
       " '13-234': 3.8175,\n",
       " '13-236': 8.33,\n",
       " '13-237': 7.136666666666667,\n",
       " '13-238': 6.7,\n",
       " '13-239': 5.715,\n",
       " '13-244': 10.575,\n",
       " '13-246': 2.7916666666666665,\n",
       " '13-249': 2.145,\n",
       " '13-25': 3.0,\n",
       " '13-255': 5.53,\n",
       " '13-261': 0.78,\n",
       " '13-262': 8.11,\n",
       " '13-263': 8.07,\n",
       " '13-33': 3.99,\n",
       " '13-40': 2.8,\n",
       " '13-45': 2.4,\n",
       " '13-48': 4.154285714285714,\n",
       " '13-49': 5.43,\n",
       " '13-50': 4.1,\n",
       " '13-54': 4.62,\n",
       " '13-55': 13.26,\n",
       " '13-65': 3.9600000000000004,\n",
       " '13-68': 2.7,\n",
       " '13-74': 10.36,\n",
       " '13-79': 3.9574999999999996,\n",
       " '13-85': 10.99,\n",
       " '13-87': 1.2125,\n",
       " '13-88': 0.9,\n",
       " '13-90': 2.7,\n",
       " '13-91': 7.86,\n",
       " '130-230': 12.8,\n",
       " '130-64': 6.03,\n",
       " '131-9': 2.1,\n",
       " '132-10': 3.75,\n",
       " '132-100': 17.6,\n",
       " '132-102': 7.7,\n",
       " '132-106': 20.2,\n",
       " '132-107': 17.561666666666667,\n",
       " '132-11': 17.945,\n",
       " '132-112': 15.809999999999999,\n",
       " '132-113': 18.302,\n",
       " '132-114': 21.73,\n",
       " '132-117': 12.2,\n",
       " '132-121': 10.47,\n",
       " '132-123': 15.65,\n",
       " '132-124': 5.67,\n",
       " '132-125': 18.736666666666668,\n",
       " '132-13': 20.86,\n",
       " '132-130': 6.716666666666666,\n",
       " '132-132': 2.2558620689655173,\n",
       " '132-134': 6.576666666666667,\n",
       " '132-137': 16.720000000000002,\n",
       " '132-138': 11.68625,\n",
       " '132-14': 20.065,\n",
       " '132-140': 19.293333333333333,\n",
       " '132-141': 19.14,\n",
       " '132-142': 20.406666666666666,\n",
       " '132-143': 10.905000000000001,\n",
       " '132-144': 18.537499999999998,\n",
       " '132-145': 15.837142857142856,\n",
       " '132-148': 17.994285714285716,\n",
       " '132-149': 14.32,\n",
       " '132-15': 14.4,\n",
       " '132-150': 14.85,\n",
       " '132-151': 19.834,\n",
       " '132-152': 19.1,\n",
       " '132-158': 22.7,\n",
       " '132-161': 18.601666666666667,\n",
       " '132-162': 17.082857142857144,\n",
       " '132-163': 19.229,\n",
       " '132-164': 18.7575,\n",
       " '132-166': 18.6,\n",
       " '132-17': 10.4,\n",
       " '132-170': 17.203,\n",
       " '132-174': 21.17,\n",
       " '132-177': 9.2,\n",
       " '132-179': 15.27,\n",
       " '132-181': 17.358571428571427,\n",
       " '132-186': 18.375,\n",
       " '132-188': 12.149999999999999,\n",
       " '132-189': 12.2,\n",
       " '132-19': 10.5,\n",
       " '132-195': 26.54,\n",
       " '132-196': 9.35,\n",
       " '132-197': 6.59,\n",
       " '132-198': 9.9,\n",
       " '132-201': 12.94,\n",
       " '132-205': 6.0,\n",
       " '132-209': 21.2,\n",
       " '132-211': 18.91,\n",
       " '132-212': 16.85,\n",
       " '132-213': 15.2,\n",
       " '132-215': 4.9,\n",
       " '132-216': 4.487,\n",
       " '132-218': 4.5,\n",
       " '132-22': 17.9,\n",
       " '132-220': 30.5,\n",
       " '132-222': 8.21,\n",
       " '132-223': 13.25,\n",
       " '132-224': 17.59,\n",
       " '132-225': 11.8,\n",
       " '132-226': 14.959999999999999,\n",
       " '132-228': 23.875,\n",
       " '132-229': 18.49,\n",
       " '132-23': 30.83,\n",
       " '132-230': 18.5712,\n",
       " '132-231': 20.46,\n",
       " '132-232': 18.3,\n",
       " '132-233': 17.86,\n",
       " '132-234': 17.654,\n",
       " '132-236': 19.491666666666667,\n",
       " '132-237': 19.540000000000003,\n",
       " '132-238': 20.8375,\n",
       " '132-239': 20.90125,\n",
       " '132-24': 19.14,\n",
       " '132-241': 20.5,\n",
       " '132-243': 22.1,\n",
       " '132-244': 19.9,\n",
       " '132-246': 18.515,\n",
       " '132-248': 17.22,\n",
       " '132-249': 18.7325,\n",
       " '132-25': 14.808000000000002,\n",
       " '132-252': 11.3,\n",
       " '132-255': 16.466666666666665,\n",
       " '132-256': 17.224,\n",
       " '132-257': 19.81,\n",
       " '132-259': 20.96,\n",
       " '132-26': 13.92,\n",
       " '132-261': 22.115000000000002,\n",
       " '132-262': 19.165,\n",
       " '132-263': 19.21,\n",
       " '132-264': 0.0,\n",
       " '132-265': 14.885833333333332,\n",
       " '132-28': 6.3133333333333335,\n",
       " '132-33': 18.683333333333334,\n",
       " '132-36': 15.886666666666665,\n",
       " '132-37': 14.899999999999999,\n",
       " '132-38': 7.300000000000001,\n",
       " '132-39': 9.912857142857144,\n",
       " '132-4': 18.59,\n",
       " '132-40': 14.1,\n",
       " '132-42': 17.95,\n",
       " '132-43': 18.744999999999997,\n",
       " '132-48': 18.761904761904763,\n",
       " '132-49': 11.92,\n",
       " '132-50': 18.735,\n",
       " '132-51': 19.064999999999998,\n",
       " '132-52': 26.86,\n",
       " '132-54': 27.2,\n",
       " '132-55': 17.3,\n",
       " '132-61': 10.69,\n",
       " '132-62': 13.229999999999999,\n",
       " '132-64': 13.6,\n",
       " '132-65': 15.686000000000002,\n",
       " '132-66': 19.3,\n",
       " '132-68': 18.7975,\n",
       " '132-7': 14.783333333333333,\n",
       " '132-70': 11.3,\n",
       " '132-71': 11.34,\n",
       " '132-72': 10.19,\n",
       " '132-74': 17.25,\n",
       " '132-76': 9.256666666666666,\n",
       " '132-77': 9.0,\n",
       " '132-79': 19.43166666666667,\n",
       " '132-80': 15.606666666666667,\n",
       " '132-82': 10.335,\n",
       " '132-83': 11.15,\n",
       " '132-85': 13.45,\n",
       " '132-86': 7.8,\n",
       " '132-87': 19.96,\n",
       " '132-88': 20.6,\n",
       " '132-89': 14.71,\n",
       " '132-9': 16.51,\n",
       " '132-90': 18.666666666666668,\n",
       " '132-91': 13.835,\n",
       " '132-92': 10.515,\n",
       " '132-93': 10.265,\n",
       " '132-95': 8.1,\n",
       " '132-97': 16.35,\n",
       " '133-133': 4.43,\n",
       " '134-197': 2.2,\n",
       " '135-75': 12.85,\n",
       " '137-100': 1.458,\n",
       " '137-107': 0.6836363636363636,\n",
       " '137-112': 5.1,\n",
       " '137-113': 1.338,\n",
       " '137-114': 1.7600000000000002,\n",
       " '137-125': 2.33,\n",
       " '137-13': 5.48,\n",
       " '137-132': 22.26,\n",
       " '137-135': 10.36,\n",
       " '137-137': 0.4633333333333333,\n",
       " '137-138': 8.4,\n",
       " '137-14': 12.34,\n",
       " '137-140': 2.186666666666667,\n",
       " '137-141': 1.83,\n",
       " '137-142': 3.08,\n",
       " '137-145': 2.7,\n",
       " '137-148': 1.4,\n",
       " '137-158': 2.66,\n",
       " '137-161': 1.46875,\n",
       " '137-162': 1.1652173913043478,\n",
       " '137-163': 1.99,\n",
       " '137-164': 0.6784615384615384,\n",
       " '137-170': 0.7204347826086956,\n",
       " '137-181': 7.65,\n",
       " '137-186': 0.9963636363636365,\n",
       " '137-209': 4.09,\n",
       " '137-220': 12.3,\n",
       " '137-223': 7.03,\n",
       " '137-224': 0.9,\n",
       " '137-229': 1.264,\n",
       " '137-230': 1.5200000000000002,\n",
       " '137-231': 3.3175,\n",
       " '137-232': 2.5949999999999998,\n",
       " '137-233': 0.886875,\n",
       " '137-234': 1.0316666666666667,\n",
       " '137-236': 3.0,\n",
       " '137-237': 2.2125,\n",
       " '137-238': 5.4,\n",
       " '137-239': 4.43,\n",
       " '137-243': 9.69,\n",
       " '137-246': 2.11,\n",
       " '137-249': 2.1574999999999998,\n",
       " '137-255': 4.35,\n",
       " '137-261': 5.49,\n",
       " '137-262': 3.005,\n",
       " '137-263': 3.5325,\n",
       " '137-4': 1.6219999999999999,\n",
       " '137-41': 5.125,\n",
       " '137-42': 6.91,\n",
       " '137-43': 2.9,\n",
       " '137-45': 2.36,\n",
       " '137-48': 2.1533333333333333,\n",
       " '137-50': 2.7,\n",
       " '137-61': 8.133333333333333,\n",
       " '137-68': 1.672,\n",
       " '137-7': 4.2,\n",
       " '137-74': 4.68,\n",
       " '137-79': 1.30875,\n",
       " '137-82': 5.8,\n",
       " '137-87': 4.34,\n",
       " '137-88': 4.449999999999999,\n",
       " '137-90': 1.3,\n",
       " '138-1': 32.72,\n",
       " '138-100': 9.765,\n",
       " '138-106': 11.0,\n",
       " '138-107': 9.463333333333333,\n",
       " '138-112': 7.25,\n",
       " '138-113': 11.0875,\n",
       " '138-114': 11.45,\n",
       " '138-116': 8.015,\n",
       " '138-121': 6.7,\n",
       " '138-125': 14.567499999999999,\n",
       " '138-127': 10.16,\n",
       " '138-129': 4.00875,\n",
       " '138-13': 14.410000000000002,\n",
       " '138-130': 7.21,\n",
       " '138-132': 12.577142857142858,\n",
       " '138-134': 6.859999999999999,\n",
       " '138-137': 8.75,\n",
       " '138-138': 0.9528571428571428,\n",
       " '138-14': 16.18,\n",
       " '138-140': 8.88125,\n",
       " '138-141': 9.37,\n",
       " '138-142': 10.852307692307694,\n",
       " '138-143': 10.466666666666667,\n",
       " '138-144': 12.341666666666667,\n",
       " '138-145': 7.723333333333333,\n",
       " '138-146': 4.134,\n",
       " '138-148': 11.54,\n",
       " '138-15': 8.100000000000001,\n",
       " '138-151': 9.15,\n",
       " '138-152': 8.86,\n",
       " '138-158': 13.899999999999999,\n",
       " '138-160': 6.68,\n",
       " '138-161': 10.131388888888889,\n",
       " '138-162': 9.673,\n",
       " '138-163': 10.425714285714285,\n",
       " '138-164': 9.65157894736842,\n",
       " '138-166': 8.26,\n",
       " '138-17': 9.2425,\n",
       " '138-170': 8.977058823529413,\n",
       " '138-171': 7.33,\n",
       " '138-174': 14.1,\n",
       " '138-175': 9.3,\n",
       " '138-177': 10.95,\n",
       " '138-178': 18.225,\n",
       " '138-179': 3.9266666666666663,\n",
       " '138-180': 11.2,\n",
       " '138-181': 11.776666666666666,\n",
       " '138-182': 10.29,\n",
       " '138-186': 11.034,\n",
       " '138-188': 13.36,\n",
       " '138-189': 13.433333333333332,\n",
       " '138-192': 4.66,\n",
       " '138-196': 5.6066666666666665,\n",
       " '138-197': 7.495,\n",
       " '138-198': 9.96,\n",
       " '138-200': 12.3,\n",
       " '138-209': 12.950000000000001,\n",
       " '138-210': 20.5,\n",
       " '138-211': 12.796666666666667,\n",
       " '138-220': 13.39,\n",
       " '138-223': 3.0500000000000003,\n",
       " '138-224': 9.870000000000001,\n",
       " '138-225': 9.817499999999999,\n",
       " '138-226': 4.58,\n",
       " '138-229': 10.012,\n",
       " '138-230': 10.601590909090909,\n",
       " '138-231': 13.138333333333334,\n",
       " '138-232': 11.485,\n",
       " '138-233': 8.775555555555556,\n",
       " '138-234': 10.5275,\n",
       " '138-236': 8.83,\n",
       " '138-237': 9.46625,\n",
       " '138-238': 9.202222222222222,\n",
       " '138-239': 10.172727272727274,\n",
       " '138-243': 10.42,\n",
       " '138-244': 10.085,\n",
       " '138-246': 10.52,\n",
       " '138-249': 11.162,\n",
       " '138-25': 10.888333333333334,\n",
       " '138-252': 5.23,\n",
       " '138-255': 7.432222222222222,\n",
       " '138-256': 8.68,\n",
       " '138-257': 16.4,\n",
       " '138-260': 4.27,\n",
       " '138-261': 16.1,\n",
       " '138-262': 8.055,\n",
       " '138-263': 8.690000000000001,\n",
       " '138-265': 20.552,\n",
       " '138-29': 21.65,\n",
       " '138-33': 11.03,\n",
       " '138-36': 7.7299999999999995,\n",
       " '138-37': 8.565,\n",
       " '138-4': 10.49,\n",
       " '138-41': 8.065,\n",
       " '138-42': 7.01,\n",
       " '138-43': 10.445,\n",
       " '138-48': 10.377692307692307,\n",
       " '138-49': 9.823333333333332,\n",
       " '138-50': 10.78,\n",
       " '138-51': 13.8,\n",
       " '138-52': 12.3,\n",
       " '138-53': 5.3,\n",
       " '138-56': 4.1,\n",
       " '138-61': 13.31,\n",
       " '138-62': 10.11,\n",
       " '138-64': 12.36,\n",
       " '138-65': 9.932857142857143,\n",
       " '138-66': 10.6,\n",
       " '138-68': 11.475000000000001,\n",
       " '138-69': 7.5,\n",
       " '138-7': 3.61125,\n",
       " '138-70': 1.4266666666666667,\n",
       " '138-74': 6.7875,\n",
       " '138-75': 8.1475,\n",
       " '138-79': 10.967500000000001,\n",
       " '138-80': 6.99,\n",
       " '138-81': 14.47,\n",
       " '138-82': 3.52,\n",
       " '138-83': 3.335,\n",
       " '138-87': 13.8125,\n",
       " '138-88': 15.393333333333333,\n",
       " '138-89': 15.11,\n",
       " '138-90': 10.943999999999999,\n",
       " '138-92': 3.65,\n",
       " '138-93': 4.29,\n",
       " '138-95': 5.085,\n",
       " '138-97': 11.11,\n",
       " '138-98': 8.7,\n",
       " '14-14': 0.38,\n",
       " '140-107': 3.115,\n",
       " '140-113': 4.1975,\n",
       " '140-125': 8.28,\n",
       " '140-13': 7.64,\n",
       " '140-132': 18.7,\n",
       " '140-135': 14.48,\n",
       " '140-137': 2.58,\n",
       " '140-138': 9.305,\n",
       " '140-140': 0.5986363636363636,\n",
       " '140-141': 0.7527272727272727,\n",
       " '140-142': 1.7822222222222222,\n",
       " '140-143': 2.32,\n",
       " '140-151': 2.83,\n",
       " '140-161': 1.8414285714285714,\n",
       " '140-162': 1.4966666666666666,\n",
       " '140-163': 1.5966666666666667,\n",
       " '140-164': 2.4683333333333333,\n",
       " '140-166': 4.2,\n",
       " '140-170': 2.122,\n",
       " '140-179': 4.22,\n",
       " '140-186': 3.31625,\n",
       " '140-193': 4.15,\n",
       " '140-209': 6.17,\n",
       " '140-211': 5.53,\n",
       " '140-223': 6.4,\n",
       " '140-224': 3.1,\n",
       " '140-226': 3.62,\n",
       " '140-229': 1.1131578947368421,\n",
       " '140-230': 2.41,\n",
       " '140-231': 7.45,\n",
       " '140-232': 5.75,\n",
       " '140-233': 1.7408333333333335,\n",
       " '140-234': 3.5033333333333334,\n",
       " '140-236': 1.2205714285714286,\n",
       " '140-237': 0.9748837209302326,\n",
       " '140-238': 2.196,\n",
       " '140-239': 2.347142857142857,\n",
       " '140-24': 4.36,\n",
       " '140-243': 6.84,\n",
       " '140-244': 7.56,\n",
       " '140-246': 4.95,\n",
       " '140-249': 5.073333333333333,\n",
       " '140-260': 4.82,\n",
       " '140-262': 0.8657692307692308,\n",
       " '140-263': 0.9194117647058824,\n",
       " '140-4': 3.825,\n",
       " '140-43': 1.7,\n",
       " '140-45': 5.0,\n",
       " '140-48': 2.669166666666667,\n",
       " '140-50': 3.0,\n",
       " '140-52': 7.66,\n",
       " '140-65': 7.12,\n",
       " '140-66': 7.5,\n",
       " '140-68': 4.1025,\n",
       " '140-7': 4.96,\n",
       " '140-74': 2.9725,\n",
       " '140-75': 1.807142857142857,\n",
       " '140-79': 4.2,\n",
       " '140-83': 5.7,\n",
       " '140-85': 11.32,\n",
       " '140-87': 5.8933333333333335,\n",
       " '140-88': 6.109999999999999,\n",
       " '140-90': 3.685,\n",
       " '140-95': 7.6,\n",
       " '140-97': 9.0,\n",
       " '141-100': 2.5149999999999997,\n",
       " '141-107': 2.60125,\n",
       " '141-112': 4.4,\n",
       " '141-113': 3.75,\n",
       " '141-114': 3.9,\n",
       " '141-116': 6.41,\n",
       " '141-13': 7.11,\n",
       " '141-130': 13.8,\n",
       " '141-132': 19.41,\n",
       " '141-133': 11.54,\n",
       " '141-137': 2.312307692307692,\n",
       " '141-138': 9.285,\n",
       " '141-140': 0.9331578947368421,\n",
       " '141-141': 0.8211764705882354,\n",
       " '141-142': 1.7133333333333332,\n",
       " '141-143': 1.99,\n",
       " '141-145': 2.9,\n",
       " '141-148': 5.65,\n",
       " '141-151': 3.125,\n",
       " '141-158': 4.8,\n",
       " '141-161': 1.5977777777777777,\n",
       " '141-162': 1.142121212121212,\n",
       " '141-163': 1.2077777777777778,\n",
       " '141-164': 2.2333333333333334,\n",
       " '141-166': 4.166666666666667,\n",
       " '141-170': 1.7866666666666668,\n",
       " '141-173': 6.45,\n",
       " '141-178': 14.0,\n",
       " '141-186': 2.7445454545454546,\n",
       " '141-193': 2.72,\n",
       " '141-196': 7.63,\n",
       " '141-209': 6.66,\n",
       " '141-211': 5.2,\n",
       " '141-220': 10.23,\n",
       " '141-224': 3.0,\n",
       " '141-226': 2.48,\n",
       " '141-229': 0.9359090909090909,\n",
       " '141-230': 1.8555555555555554,\n",
       " '141-231': 7.246666666666666,\n",
       " '141-233': 1.3258333333333334,\n",
       " '141-234': 2.982,\n",
       " '141-236': 1.1402083333333333,\n",
       " '141-237': 0.6136842105263158,\n",
       " '141-238': 2.375,\n",
       " '141-239': 2.0327272727272727,\n",
       " '141-24': 3.9,\n",
       " '141-243': 7.63,\n",
       " '141-244': 7.68,\n",
       " '141-246': 4.55,\n",
       " '141-249': 5.66,\n",
       " '141-255': 5.13,\n",
       " '141-261': 6.885,\n",
       " '141-262': 0.8171428571428571,\n",
       " '141-263': 0.9044444444444445,\n",
       " '141-4': 4.6675,\n",
       " '141-42': 4.046666666666667,\n",
       " '141-43': 1.231111111111111,\n",
       " '141-48': 2.526666666666667,\n",
       " '141-50': 2.6775,\n",
       " '141-65': 8.0,\n",
       " '141-68': 3.1975,\n",
       " '141-7': 3.5333333333333337,\n",
       " '141-74': 3.1374999999999997,\n",
       " '141-75': 1.90125,\n",
       " '141-79': 3.9475,\n",
       " '141-80': 5.5649999999999995,\n",
       " '141-88': 7.26,\n",
       " '141-90': 4.05,\n",
       " '142-100': 1.6228571428571428,\n",
       " '142-107': 3.2199999999999998,\n",
       " '142-113': 3.2,\n",
       " '142-114': 3.74,\n",
       " '142-116': 4.556666666666667,\n",
       " '142-125': 3.99,\n",
       " '142-127': 8.965,\n",
       " '142-129': 5.68,\n",
       " '142-13': 5.058333333333334,\n",
       " '142-132': 20.77,\n",
       " '142-137': 2.985,\n",
       " '142-138': 9.133333333333333,\n",
       " '142-140': 2.2916666666666665,\n",
       " '142-141': 1.7023076923076923,\n",
       " '142-142': 0.628974358974359,\n",
       " '142-143': 0.8415384615384615,\n",
       " '142-144': 4.48,\n",
       " '142-145': 3.6,\n",
       " '142-148': 7.87,\n",
       " '142-151': 2.0314285714285716,\n",
       " '142-158': 2.7,\n",
       " '142-161': 1.426875,\n",
       " '142-162': 1.6821052631578948,\n",
       " '142-163': 0.8309375,\n",
       " '142-164': 2.382,\n",
       " '142-166': 2.6875,\n",
       " '142-17': 8.274999999999999,\n",
       " '142-170': 2.3214285714285716,\n",
       " '142-174': 12.6,\n",
       " '142-181': 8.14,\n",
       " '142-186': 1.8606666666666667,\n",
       " '142-209': 7.3,\n",
       " '142-211': 5.0,\n",
       " '142-220': 9.0,\n",
       " '142-223': 5.795,\n",
       " '142-224': 3.885,\n",
       " '142-225': 8.8,\n",
       " '142-229': 1.6320000000000001,\n",
       " '142-230': 1.051212121212121,\n",
       " '142-231': 4.8425,\n",
       " '142-233': 2.2944444444444443,\n",
       " '142-234': 2.9166666666666665,\n",
       " '142-236': 2.0282758620689654,\n",
       " '142-237': 1.3573333333333333,\n",
       " '142-238': 1.44875,\n",
       " '142-239': 0.9964999999999999,\n",
       " '142-24': 2.1580000000000004,\n",
       " '142-243': 7.75,\n",
       " '142-244': 6.058333333333334,\n",
       " '142-246': 2.075714285714286,\n",
       " '142-249': 2.982,\n",
       " '142-261': 6.45,\n",
       " '142-262': 2.686666666666667,\n",
       " '142-263': 2.29,\n",
       " '142-264': 0.4,\n",
       " '142-41': 2.9244444444444446,\n",
       " '142-42': 3.94,\n",
       " '142-43': 1.1046153846153848,\n",
       " '142-48': 0.9956756756756756,\n",
       " '142-50': 1.0758333333333334,\n",
       " '142-68': 1.8776470588235294,\n",
       " '142-74': 3.8925,\n",
       " ...}"
      ]
     },
     "execution_count": 25,
     "metadata": {},
     "output_type": "execute_result"
    }
   ],
   "source": [
    "grouped_dict = grouped.to_dict()\n",
    "grouped_dict\n"
   ]
  },
  {
   "cell_type": "code",
   "execution_count": 26,
   "metadata": {},
   "outputs": [
    {
     "data": {
      "text/html": [
       "<div>\n",
       "<style scoped>\n",
       "    .dataframe tbody tr th:only-of-type {\n",
       "        vertical-align: middle;\n",
       "    }\n",
       "\n",
       "    .dataframe tbody tr th {\n",
       "        vertical-align: top;\n",
       "    }\n",
       "\n",
       "    .dataframe thead th {\n",
       "        text-align: right;\n",
       "    }\n",
       "</style>\n",
       "<table border=\"1\" class=\"dataframe\">\n",
       "  <thead>\n",
       "    <tr style=\"text-align: right;\">\n",
       "      <th></th>\n",
       "      <th>pickup_dropoff</th>\n",
       "      <th>mean_distance</th>\n",
       "    </tr>\n",
       "  </thead>\n",
       "  <tbody>\n",
       "    <tr>\n",
       "      <th>6485</th>\n",
       "      <td>1-1</td>\n",
       "      <td>2.433333</td>\n",
       "    </tr>\n",
       "    <tr>\n",
       "      <th>13359</th>\n",
       "      <td>1-1</td>\n",
       "      <td>2.433333</td>\n",
       "    </tr>\n",
       "    <tr>\n",
       "      <th>3582</th>\n",
       "      <td>1-1</td>\n",
       "      <td>2.433333</td>\n",
       "    </tr>\n",
       "    <tr>\n",
       "      <th>7867</th>\n",
       "      <td>10-148</td>\n",
       "      <td>15.700000</td>\n",
       "    </tr>\n",
       "    <tr>\n",
       "      <th>13496</th>\n",
       "      <td>100-1</td>\n",
       "      <td>16.890000</td>\n",
       "    </tr>\n",
       "    <tr>\n",
       "      <th>...</th>\n",
       "      <td>...</td>\n",
       "      <td>...</td>\n",
       "    </tr>\n",
       "    <tr>\n",
       "      <th>17995</th>\n",
       "      <td>97-80</td>\n",
       "      <td>3.840000</td>\n",
       "    </tr>\n",
       "    <tr>\n",
       "      <th>2842</th>\n",
       "      <td>97-90</td>\n",
       "      <td>4.420000</td>\n",
       "    </tr>\n",
       "    <tr>\n",
       "      <th>15337</th>\n",
       "      <td>97-97</td>\n",
       "      <td>1.006667</td>\n",
       "    </tr>\n",
       "    <tr>\n",
       "      <th>19619</th>\n",
       "      <td>97-97</td>\n",
       "      <td>1.006667</td>\n",
       "    </tr>\n",
       "    <tr>\n",
       "      <th>4230</th>\n",
       "      <td>97-97</td>\n",
       "      <td>1.006667</td>\n",
       "    </tr>\n",
       "  </tbody>\n",
       "</table>\n",
       "<p>22699 rows × 2 columns</p>\n",
       "</div>"
      ],
      "text/plain": [
       "      pickup_dropoff  mean_distance\n",
       "6485             1-1       2.433333\n",
       "13359            1-1       2.433333\n",
       "3582             1-1       2.433333\n",
       "7867          10-148      15.700000\n",
       "13496          100-1      16.890000\n",
       "...              ...            ...\n",
       "17995          97-80       3.840000\n",
       "2842           97-90       4.420000\n",
       "15337          97-97       1.006667\n",
       "19619          97-97       1.006667\n",
       "4230           97-97       1.006667\n",
       "\n",
       "[22699 rows x 2 columns]"
      ]
     },
     "execution_count": 26,
     "metadata": {},
     "output_type": "execute_result"
    }
   ],
   "source": [
    "df0[\"mean_distance\"] = df0[\"pickup_dropoff\"]\n",
    "\n",
    "df0[\"mean_distance\"] = df0[\"mean_distance\"].map(grouped_dict)\n",
    "\n",
    "df0[[\"pickup_dropoff\",\"mean_distance\"]].sort_values(\"pickup_dropoff\")"
   ]
  },
  {
   "cell_type": "markdown",
   "metadata": {},
   "source": [
    "#### Create `mean_duration` column"
   ]
  },
  {
   "cell_type": "code",
   "execution_count": 27,
   "metadata": {},
   "outputs": [
    {
     "data": {
      "text/html": [
       "<div>\n",
       "<style scoped>\n",
       "    .dataframe tbody tr th:only-of-type {\n",
       "        vertical-align: middle;\n",
       "    }\n",
       "\n",
       "    .dataframe tbody tr th {\n",
       "        vertical-align: top;\n",
       "    }\n",
       "\n",
       "    .dataframe thead th {\n",
       "        text-align: right;\n",
       "    }\n",
       "</style>\n",
       "<table border=\"1\" class=\"dataframe\">\n",
       "  <thead>\n",
       "    <tr style=\"text-align: right;\">\n",
       "      <th></th>\n",
       "      <th>pickup_dropoff</th>\n",
       "      <th>mean_duration</th>\n",
       "    </tr>\n",
       "  </thead>\n",
       "  <tbody>\n",
       "    <tr>\n",
       "      <th>6485</th>\n",
       "      <td>1-1</td>\n",
       "      <td>0.000000</td>\n",
       "    </tr>\n",
       "    <tr>\n",
       "      <th>13359</th>\n",
       "      <td>1-1</td>\n",
       "      <td>0.000000</td>\n",
       "    </tr>\n",
       "    <tr>\n",
       "      <th>3582</th>\n",
       "      <td>1-1</td>\n",
       "      <td>0.000000</td>\n",
       "    </tr>\n",
       "    <tr>\n",
       "      <th>7867</th>\n",
       "      <td>10-148</td>\n",
       "      <td>69.000000</td>\n",
       "    </tr>\n",
       "    <tr>\n",
       "      <th>13496</th>\n",
       "      <td>100-1</td>\n",
       "      <td>48.000000</td>\n",
       "    </tr>\n",
       "    <tr>\n",
       "      <th>...</th>\n",
       "      <td>...</td>\n",
       "      <td>...</td>\n",
       "    </tr>\n",
       "    <tr>\n",
       "      <th>17995</th>\n",
       "      <td>97-80</td>\n",
       "      <td>23.000000</td>\n",
       "    </tr>\n",
       "    <tr>\n",
       "      <th>2842</th>\n",
       "      <td>97-90</td>\n",
       "      <td>11.000000</td>\n",
       "    </tr>\n",
       "    <tr>\n",
       "      <th>15337</th>\n",
       "      <td>97-97</td>\n",
       "      <td>33.333333</td>\n",
       "    </tr>\n",
       "    <tr>\n",
       "      <th>19619</th>\n",
       "      <td>97-97</td>\n",
       "      <td>33.333333</td>\n",
       "    </tr>\n",
       "    <tr>\n",
       "      <th>4230</th>\n",
       "      <td>97-97</td>\n",
       "      <td>33.333333</td>\n",
       "    </tr>\n",
       "  </tbody>\n",
       "</table>\n",
       "<p>22699 rows × 2 columns</p>\n",
       "</div>"
      ],
      "text/plain": [
       "      pickup_dropoff  mean_duration\n",
       "6485             1-1       0.000000\n",
       "13359            1-1       0.000000\n",
       "3582             1-1       0.000000\n",
       "7867          10-148      69.000000\n",
       "13496          100-1      48.000000\n",
       "...              ...            ...\n",
       "17995          97-80      23.000000\n",
       "2842           97-90      11.000000\n",
       "15337          97-97      33.333333\n",
       "19619          97-97      33.333333\n",
       "4230           97-97      33.333333\n",
       "\n",
       "[22699 rows x 2 columns]"
      ]
     },
     "execution_count": 27,
     "metadata": {},
     "output_type": "execute_result"
    }
   ],
   "source": [
    "grouped_duration = df0.groupby([\"pickup_dropoff\"])[\"duration\"].mean()\n",
    "\n",
    "grouped_duration_dict = grouped_duration.to_dict()\n",
    "\n",
    "df0[\"mean_duration\"] = df0[\"pickup_dropoff\"]\n",
    "df0[\"mean_duration\"] = df0[\"mean_duration\"].map(grouped_duration_dict)\n",
    "\n",
    "df0[[\"pickup_dropoff\",\"mean_duration\"]].sort_values(\"pickup_dropoff\")"
   ]
  },
  {
   "cell_type": "markdown",
   "metadata": {},
   "source": [
    "#### Create `day` and `month` columns"
   ]
  },
  {
   "cell_type": "code",
   "execution_count": 28,
   "metadata": {},
   "outputs": [
    {
     "name": "stdout",
     "output_type": "stream",
     "text": [
      "day              object\n",
      "month            object\n",
      "time_start       object\n",
      "time_finished    object\n",
      "dtype: object\n",
      "            day      month time_start time_finished\n",
      "0      Saturday      March   08:55:43      09:09:47\n",
      "1       Tuesday      April   02:53:28      03:19:58\n",
      "2        Friday   December   07:26:56      07:34:08\n",
      "3        Sunday        May   01:17:59      01:48:14\n",
      "4      Saturday      April   11:32:20      11:49:03\n",
      "...         ...        ...        ...           ...\n",
      "22694    Friday   February   05:37:23      05:40:39\n",
      "22695    Sunday     August   04:43:59      05:24:47\n",
      "22696    Monday  September   02:54:14      02:58:22\n",
      "22697  Saturday       July   12:56:30      01:08:26\n",
      "22698  Thursday      March   01:02:49      01:16:09\n",
      "\n",
      "[22699 rows x 4 columns]\n"
     ]
    }
   ],
   "source": [
    "df0['day'] = df0['tpep_pickup_datetime'].dt.day_name()\n",
    "df0['month'] = df0['tpep_pickup_datetime'].dt.month_name()\n",
    "df0[\"time_start\"] = [time.time() for time in df0[\"tpep_pickup_datetime\"]]\n",
    "\n",
    "df0[\"time_finished\"] = pd.to_datetime(df0[\"tpep_dropoff_datetime\"]).dt.time\n",
    "\n",
    "print(df0[[\"day\",\"month\",\"time_start\",\"time_finished\"]].dtypes)\n",
    "print(df0[[\"day\",\"month\",\"time_start\",\"time_finished\"]])\n"
   ]
  },
  {
   "cell_type": "code",
   "execution_count": 29,
   "metadata": {},
   "outputs": [
    {
     "name": "stdout",
     "output_type": "stream",
     "text": [
      "<class 'datetime.time'>\n",
      "<class 'str'>\n"
     ]
    },
    {
     "data": {
      "text/plain": [
       "'02'"
      ]
     },
     "execution_count": 29,
     "metadata": {},
     "output_type": "execute_result"
    }
   ],
   "source": [
    "print(type(df0[\"time_start\"][0]))\n",
    "\n",
    "df0[\"time_start\"] = df0[\"time_start\"].astype(str)\n",
    "\n",
    "print(type(df0[\"time_start\"][0]))\n",
    "df0[\"time_start\"][1][:2]\n"
   ]
  },
  {
   "cell_type": "markdown",
   "metadata": {},
   "source": [
    "#### Create `rush_hour` column"
   ]
  },
  {
   "cell_type": "code",
   "execution_count": 30,
   "metadata": {},
   "outputs": [
    {
     "data": {
      "text/plain": [
       "0     8\n",
       "1     2\n",
       "2     7\n",
       "3     1\n",
       "4    11\n",
       "Name: hour, dtype: int64"
      ]
     },
     "execution_count": 30,
     "metadata": {},
     "output_type": "execute_result"
    }
   ],
   "source": [
    "df0[\"hour\"] = df0[\"time_start\"].str[0:2]\n",
    "df0[\"hour\"] = df0[\"hour\"].astype(int)\n",
    "\n",
    "def rush(row):\n",
    "    if row[\"day\"] == \"Sunday\" or row[\"day\"] == \"Saturday\" and row[\"hour\"] < 6 or row[\"hour\"] > 10 and row[\"hour\"] < 16 or row[\"hour\"] > 20:\n",
    "        return 0\n",
    "    else:\n",
    "        return 1\n",
    "\n",
    "df0 = df0.assign(rush_hour = df0.apply(rush, axis = 1))\n",
    "    \n",
    "\n",
    "df0[\"hour\"].head()"
   ]
  },
  {
   "cell_type": "code",
   "execution_count": 31,
   "metadata": {},
   "outputs": [
    {
     "data": {
      "text/html": [
       "<div>\n",
       "<style scoped>\n",
       "    .dataframe tbody tr th:only-of-type {\n",
       "        vertical-align: middle;\n",
       "    }\n",
       "\n",
       "    .dataframe tbody tr th {\n",
       "        vertical-align: top;\n",
       "    }\n",
       "\n",
       "    .dataframe thead th {\n",
       "        text-align: right;\n",
       "    }\n",
       "</style>\n",
       "<table border=\"1\" class=\"dataframe\">\n",
       "  <thead>\n",
       "    <tr style=\"text-align: right;\">\n",
       "      <th></th>\n",
       "      <th>day</th>\n",
       "      <th>month</th>\n",
       "      <th>time_start</th>\n",
       "      <th>time_finished</th>\n",
       "      <th>rush_hour</th>\n",
       "    </tr>\n",
       "  </thead>\n",
       "  <tbody>\n",
       "    <tr>\n",
       "      <th>0</th>\n",
       "      <td>Saturday</td>\n",
       "      <td>March</td>\n",
       "      <td>08:55:43</td>\n",
       "      <td>09:09:47</td>\n",
       "      <td>1</td>\n",
       "    </tr>\n",
       "    <tr>\n",
       "      <th>1</th>\n",
       "      <td>Tuesday</td>\n",
       "      <td>April</td>\n",
       "      <td>02:53:28</td>\n",
       "      <td>03:19:58</td>\n",
       "      <td>1</td>\n",
       "    </tr>\n",
       "    <tr>\n",
       "      <th>2</th>\n",
       "      <td>Friday</td>\n",
       "      <td>December</td>\n",
       "      <td>07:26:56</td>\n",
       "      <td>07:34:08</td>\n",
       "      <td>1</td>\n",
       "    </tr>\n",
       "    <tr>\n",
       "      <th>3</th>\n",
       "      <td>Sunday</td>\n",
       "      <td>May</td>\n",
       "      <td>01:17:59</td>\n",
       "      <td>01:48:14</td>\n",
       "      <td>0</td>\n",
       "    </tr>\n",
       "    <tr>\n",
       "      <th>4</th>\n",
       "      <td>Saturday</td>\n",
       "      <td>April</td>\n",
       "      <td>11:32:20</td>\n",
       "      <td>11:49:03</td>\n",
       "      <td>0</td>\n",
       "    </tr>\n",
       "    <tr>\n",
       "      <th>...</th>\n",
       "      <td>...</td>\n",
       "      <td>...</td>\n",
       "      <td>...</td>\n",
       "      <td>...</td>\n",
       "      <td>...</td>\n",
       "    </tr>\n",
       "    <tr>\n",
       "      <th>22694</th>\n",
       "      <td>Friday</td>\n",
       "      <td>February</td>\n",
       "      <td>05:37:23</td>\n",
       "      <td>05:40:39</td>\n",
       "      <td>1</td>\n",
       "    </tr>\n",
       "    <tr>\n",
       "      <th>22695</th>\n",
       "      <td>Sunday</td>\n",
       "      <td>August</td>\n",
       "      <td>04:43:59</td>\n",
       "      <td>05:24:47</td>\n",
       "      <td>0</td>\n",
       "    </tr>\n",
       "    <tr>\n",
       "      <th>22696</th>\n",
       "      <td>Monday</td>\n",
       "      <td>September</td>\n",
       "      <td>02:54:14</td>\n",
       "      <td>02:58:22</td>\n",
       "      <td>1</td>\n",
       "    </tr>\n",
       "    <tr>\n",
       "      <th>22697</th>\n",
       "      <td>Saturday</td>\n",
       "      <td>July</td>\n",
       "      <td>12:56:30</td>\n",
       "      <td>01:08:26</td>\n",
       "      <td>0</td>\n",
       "    </tr>\n",
       "    <tr>\n",
       "      <th>22698</th>\n",
       "      <td>Thursday</td>\n",
       "      <td>March</td>\n",
       "      <td>01:02:49</td>\n",
       "      <td>01:16:09</td>\n",
       "      <td>1</td>\n",
       "    </tr>\n",
       "  </tbody>\n",
       "</table>\n",
       "<p>22699 rows × 5 columns</p>\n",
       "</div>"
      ],
      "text/plain": [
       "            day      month time_start time_finished  rush_hour\n",
       "0      Saturday      March   08:55:43      09:09:47          1\n",
       "1       Tuesday      April   02:53:28      03:19:58          1\n",
       "2        Friday   December   07:26:56      07:34:08          1\n",
       "3        Sunday        May   01:17:59      01:48:14          0\n",
       "4      Saturday      April   11:32:20      11:49:03          0\n",
       "...         ...        ...        ...           ...        ...\n",
       "22694    Friday   February   05:37:23      05:40:39          1\n",
       "22695    Sunday     August   04:43:59      05:24:47          0\n",
       "22696    Monday  September   02:54:14      02:58:22          1\n",
       "22697  Saturday       July   12:56:30      01:08:26          0\n",
       "22698  Thursday      March   01:02:49      01:16:09          1\n",
       "\n",
       "[22699 rows x 5 columns]"
      ]
     },
     "execution_count": 31,
     "metadata": {},
     "output_type": "execute_result"
    }
   ],
   "source": [
    "\n",
    "df0[[\"day\",\"month\",\"time_start\",\"time_finished\",\"rush_hour\"]]"
   ]
  },
  {
   "cell_type": "markdown",
   "metadata": {},
   "source": [
    "### Scatter plot"
   ]
  },
  {
   "cell_type": "code",
   "execution_count": 33,
   "metadata": {},
   "outputs": [
    {
     "data": {
      "image/png": "[encoded data removed]",
      "text/plain": [
       "<Figure size 432x288 with 1 Axes>"
      ]
     },
     "metadata": {
      "needs_background": "light"
     },
     "output_type": "display_data"
    }
   ],
   "source": [
    "sns.scatterplot(x = df0['mean_duration'], y = df0['fare_amount'])\n",
    "sns.scatterplot(x = df0['mean_distance'], y = df0['fare_amount'])\n",
    "plt.show()"
   ]
  },
  {
   "cell_type": "code",
   "execution_count": 34,
   "metadata": {},
   "outputs": [
    {
     "data": {
      "text/plain": [
       "52.0    514\n",
       "62.5     84\n",
       "59.0      9\n",
       "Name: fare_amount, dtype: int64"
      ]
     },
     "execution_count": 34,
     "metadata": {},
     "output_type": "execute_result"
    }
   ],
   "source": [
    "df0[df0[\"fare_amount\"]>50][\"fare_amount\"].value_counts().head(3)"
   ]
  },
  {
   "cell_type": "markdown",
   "metadata": {},
   "source": [
    "Examine the first 30 of these trips."
   ]
  },
  {
   "cell_type": "code",
   "execution_count": 35,
   "metadata": {},
   "outputs": [],
   "source": [
    "df_fare52 = df0[df0['fare_amount']==52]"
   ]
  },
  {
   "cell_type": "code",
   "execution_count": 36,
   "metadata": {},
   "outputs": [
    {
     "data": {
      "text/plain": [
       "PULocationID\n",
       "132    292\n",
       "264     15\n",
       "163     13\n",
       "170     13\n",
       "230      9\n",
       "      ... \n",
       "140      1\n",
       "145      1\n",
       "148      1\n",
       "151      1\n",
       "265      1\n",
       "Name: PULocationID, Length: 62, dtype: int64"
      ]
     },
     "execution_count": 36,
     "metadata": {},
     "output_type": "execute_result"
    }
   ],
   "source": [
    "df_fare52.groupby('PULocationID')['PULocationID'].count().sort_values(ascending=False)\n"
   ]
  },
  {
   "cell_type": "code",
   "execution_count": 37,
   "metadata": {},
   "outputs": [
    {
     "data": {
      "text/plain": [
       "459"
      ]
     },
     "execution_count": 37,
     "metadata": {},
     "output_type": "execute_result"
    }
   ],
   "source": [
    "df_loc = df_fare52.loc[(df_fare52['PULocationID'] == 132) | (df_fare52['DOLocationID'] == 132)]\n",
    "df_loc['fare_amount'].count()"
   ]
  },
  {
   "cell_type": "markdown",
   "metadata": {},
   "source": [
    "Of the 512 trips with a cost = 52, 459 start and/or end at Location 132 (almost 90%) so it is not an error but rather a cost of going to or leaving that location."
   ]
  },
  {
   "cell_type": "markdown",
   "metadata": {},
   "source": [
    "### Isolate modeling variables"
   ]
  },
  {
   "cell_type": "code",
   "execution_count": 38,
   "metadata": {},
   "outputs": [
    {
     "name": "stdout",
     "output_type": "stream",
     "text": [
      "<class 'pandas.core.frame.DataFrame'>\n",
      "RangeIndex: 22699 entries, 0 to 22698\n",
      "Data columns (total 28 columns):\n",
      " #   Column                 Non-Null Count  Dtype         \n",
      "---  ------                 --------------  -----         \n",
      " 0   Unnamed: 0             22699 non-null  int64         \n",
      " 1   VendorID               22699 non-null  int64         \n",
      " 2   tpep_pickup_datetime   22699 non-null  datetime64[ns]\n",
      " 3   tpep_dropoff_datetime  22699 non-null  datetime64[ns]\n",
      " 4   passenger_count        22699 non-null  int64         \n",
      " 5   trip_distance          22699 non-null  float64       \n",
      " 6   RatecodeID             22699 non-null  int64         \n",
      " 7   store_and_fwd_flag     22699 non-null  object        \n",
      " 8   PULocationID           22699 non-null  int64         \n",
      " 9   DOLocationID           22699 non-null  int64         \n",
      " 10  payment_type           22699 non-null  int64         \n",
      " 11  fare_amount            22699 non-null  float64       \n",
      " 12  extra                  22699 non-null  float64       \n",
      " 13  mta_tax                22699 non-null  float64       \n",
      " 14  tip_amount             22699 non-null  float64       \n",
      " 15  tolls_amount           22699 non-null  float64       \n",
      " 16  improvement_surcharge  22699 non-null  float64       \n",
      " 17  total_amount           22699 non-null  float64       \n",
      " 18  duration               22699 non-null  float64       \n",
      " 19  pickup_dropoff         22699 non-null  object        \n",
      " 20  mean_distance          22699 non-null  float64       \n",
      " 21  mean_duration          22699 non-null  float64       \n",
      " 22  day                    22699 non-null  object        \n",
      " 23  month                  22699 non-null  object        \n",
      " 24  time_start             22699 non-null  object        \n",
      " 25  time_finished          22699 non-null  object        \n",
      " 26  hour                   22699 non-null  int64         \n",
      " 27  rush_hour              22699 non-null  int64         \n",
      "dtypes: datetime64[ns](2), float64(11), int64(9), object(6)\n",
      "memory usage: 4.8+ MB\n"
     ]
    }
   ],
   "source": [
    "df0.info()"
   ]
  },
  {
   "cell_type": "markdown",
   "metadata": {},
   "source": [
    "### Pair plot"
   ]
  },
  {
   "cell_type": "code",
   "execution_count": 39,
   "metadata": {},
   "outputs": [
    {
     "data": {
      "image/png": "[encoded data removed]",
      "text/plain": [
       "<Figure size 540x540 with 12 Axes>"
      ]
     },
     "metadata": {
      "needs_background": "light"
     },
     "output_type": "display_data"
    }
   ],
   "source": [
    "sns.pairplot(df0, vars=[\"fare_amount\",\"mean_duration\", \"mean_distance\"])\n",
    "plt.show()\n"
   ]
  },
  {
   "cell_type": "markdown",
   "metadata": {},
   "source": [
    "### Identify correlations"
   ]
  },
  {
   "cell_type": "code",
   "execution_count": 40,
   "metadata": {},
   "outputs": [
    {
     "name": "stdout",
     "output_type": "stream",
     "text": [
      "   fare_amount  mean_duration  mean_distance  rush_hour  VendorID  \\\n",
      "0         13.0      18.333333       3.521667          1         2   \n",
      "1         16.0      21.000000       3.108889          1         1   \n",
      "2          6.5       6.571429       0.881429          1         1   \n",
      "3         20.5      30.000000       3.700000          0         2   \n",
      "4         16.5      14.000000       4.435000          0         2   \n",
      "\n",
      "   passenger_count  \n",
      "0                6  \n",
      "1                1  \n",
      "2                1  \n",
      "3                1  \n",
      "4                1  \n"
     ]
    },
    {
     "data": {
      "text/html": [
       "<div>\n",
       "<style scoped>\n",
       "    .dataframe tbody tr th:only-of-type {\n",
       "        vertical-align: middle;\n",
       "    }\n",
       "\n",
       "    .dataframe tbody tr th {\n",
       "        vertical-align: top;\n",
       "    }\n",
       "\n",
       "    .dataframe thead th {\n",
       "        text-align: right;\n",
       "    }\n",
       "</style>\n",
       "<table border=\"1\" class=\"dataframe\">\n",
       "  <thead>\n",
       "    <tr style=\"text-align: right;\">\n",
       "      <th></th>\n",
       "      <th>fare_amount</th>\n",
       "      <th>mean_duration</th>\n",
       "      <th>mean_distance</th>\n",
       "      <th>rush_hour</th>\n",
       "      <th>VendorID</th>\n",
       "      <th>passenger_count</th>\n",
       "    </tr>\n",
       "  </thead>\n",
       "  <tbody>\n",
       "    <tr>\n",
       "      <th>fare_amount</th>\n",
       "      <td>1.000000</td>\n",
       "      <td>0.789662</td>\n",
       "      <td>0.910185</td>\n",
       "      <td>-0.008275</td>\n",
       "      <td>0.001045</td>\n",
       "      <td>0.014942</td>\n",
       "    </tr>\n",
       "    <tr>\n",
       "      <th>mean_duration</th>\n",
       "      <td>0.789662</td>\n",
       "      <td>1.000000</td>\n",
       "      <td>0.804701</td>\n",
       "      <td>-0.022960</td>\n",
       "      <td>0.003718</td>\n",
       "      <td>0.013520</td>\n",
       "    </tr>\n",
       "    <tr>\n",
       "      <th>mean_distance</th>\n",
       "      <td>0.910185</td>\n",
       "      <td>0.804701</td>\n",
       "      <td>1.000000</td>\n",
       "      <td>-0.021921</td>\n",
       "      <td>0.004741</td>\n",
       "      <td>0.013428</td>\n",
       "    </tr>\n",
       "    <tr>\n",
       "      <th>rush_hour</th>\n",
       "      <td>-0.008275</td>\n",
       "      <td>-0.022960</td>\n",
       "      <td>-0.021921</td>\n",
       "      <td>1.000000</td>\n",
       "      <td>0.001022</td>\n",
       "      <td>-0.020465</td>\n",
       "    </tr>\n",
       "    <tr>\n",
       "      <th>VendorID</th>\n",
       "      <td>0.001045</td>\n",
       "      <td>0.003718</td>\n",
       "      <td>0.004741</td>\n",
       "      <td>0.001022</td>\n",
       "      <td>1.000000</td>\n",
       "      <td>0.266463</td>\n",
       "    </tr>\n",
       "    <tr>\n",
       "      <th>passenger_count</th>\n",
       "      <td>0.014942</td>\n",
       "      <td>0.013520</td>\n",
       "      <td>0.013428</td>\n",
       "      <td>-0.020465</td>\n",
       "      <td>0.266463</td>\n",
       "      <td>1.000000</td>\n",
       "    </tr>\n",
       "  </tbody>\n",
       "</table>\n",
       "</div>"
      ],
      "text/plain": [
       "                 fare_amount  mean_duration  mean_distance  rush_hour  \\\n",
       "fare_amount         1.000000       0.789662       0.910185  -0.008275   \n",
       "mean_duration       0.789662       1.000000       0.804701  -0.022960   \n",
       "mean_distance       0.910185       0.804701       1.000000  -0.021921   \n",
       "rush_hour          -0.008275      -0.022960      -0.021921   1.000000   \n",
       "VendorID            0.001045       0.003718       0.004741   0.001022   \n",
       "passenger_count     0.014942       0.013520       0.013428  -0.020465   \n",
       "\n",
       "                 VendorID  passenger_count  \n",
       "fare_amount      0.001045         0.014942  \n",
       "mean_duration    0.003718         0.013520  \n",
       "mean_distance    0.004741         0.013428  \n",
       "rush_hour        0.001022        -0.020465  \n",
       "VendorID         1.000000         0.266463  \n",
       "passenger_count  0.266463         1.000000  "
      ]
     },
     "execution_count": 40,
     "metadata": {},
     "output_type": "execute_result"
    }
   ],
   "source": [
    "df1 = df0[[\"fare_amount\",\"mean_duration\", \"mean_distance\",\"rush_hour\",\"VendorID\",\"passenger_count\"]]\n",
    "print(df1.head(5))\n",
    "df1.corr(method = \"pearson\")"
   ]
  },
  {
   "cell_type": "code",
   "execution_count": 41,
   "metadata": {},
   "outputs": [
    {
     "data": {
      "image/png": "[encoded data removed]",
      "text/plain": [
       "<Figure size 432x288 with 2 Axes>"
      ]
     },
     "metadata": {
      "needs_background": "light"
     },
     "output_type": "display_data"
    }
   ],
   "source": [
    "plt.figure(figsize=(6,4))\n",
    "sns.heatmap(df1.corr(method='pearson'), annot=True, cmap='Reds')\n",
    "plt.title('Correlation heatmap', fontsize=16)\n",
    "plt.show()"
   ]
  },
  {
   "cell_type": "markdown",
   "metadata": {},
   "source": [
    "Indeed this confirms a strong correlation between mean_distance and mean_duration. In any case, both variables are left in the model to analyze the resulting coefficients."
   ]
  },
  {
   "cell_type": "markdown",
   "metadata": {
    "id": "lgPul2DiY6T4"
   },
   "source": [
    "## PACE: **Construct**"
   ]
  },
  {
   "cell_type": "markdown",
   "metadata": {
    "id": "P_QYzJfVUrIc"
   },
   "source": [
    "#### Split data into outcome variable and features"
   ]
  },
  {
   "cell_type": "code",
   "execution_count": 43,
   "metadata": {},
   "outputs": [
    {
     "data": {
      "text/html": [
       "<div>\n",
       "<style scoped>\n",
       "    .dataframe tbody tr th:only-of-type {\n",
       "        vertical-align: middle;\n",
       "    }\n",
       "\n",
       "    .dataframe tbody tr th {\n",
       "        vertical-align: top;\n",
       "    }\n",
       "\n",
       "    .dataframe thead th {\n",
       "        text-align: right;\n",
       "    }\n",
       "</style>\n",
       "<table border=\"1\" class=\"dataframe\">\n",
       "  <thead>\n",
       "    <tr style=\"text-align: right;\">\n",
       "      <th></th>\n",
       "      <th>mean_duration</th>\n",
       "      <th>mean_distance</th>\n",
       "      <th>rush_hour</th>\n",
       "      <th>VendorID</th>\n",
       "      <th>passenger_count</th>\n",
       "    </tr>\n",
       "  </thead>\n",
       "  <tbody>\n",
       "    <tr>\n",
       "      <th>0</th>\n",
       "      <td>18.333333</td>\n",
       "      <td>3.521667</td>\n",
       "      <td>1</td>\n",
       "      <td>2</td>\n",
       "      <td>6</td>\n",
       "    </tr>\n",
       "    <tr>\n",
       "      <th>1</th>\n",
       "      <td>21.000000</td>\n",
       "      <td>3.108889</td>\n",
       "      <td>1</td>\n",
       "      <td>1</td>\n",
       "      <td>1</td>\n",
       "    </tr>\n",
       "    <tr>\n",
       "      <th>2</th>\n",
       "      <td>6.571429</td>\n",
       "      <td>0.881429</td>\n",
       "      <td>1</td>\n",
       "      <td>1</td>\n",
       "      <td>1</td>\n",
       "    </tr>\n",
       "    <tr>\n",
       "      <th>3</th>\n",
       "      <td>30.000000</td>\n",
       "      <td>3.700000</td>\n",
       "      <td>0</td>\n",
       "      <td>2</td>\n",
       "      <td>1</td>\n",
       "    </tr>\n",
       "    <tr>\n",
       "      <th>4</th>\n",
       "      <td>14.000000</td>\n",
       "      <td>4.435000</td>\n",
       "      <td>0</td>\n",
       "      <td>2</td>\n",
       "      <td>1</td>\n",
       "    </tr>\n",
       "    <tr>\n",
       "      <th>...</th>\n",
       "      <td>...</td>\n",
       "      <td>...</td>\n",
       "      <td>...</td>\n",
       "      <td>...</td>\n",
       "      <td>...</td>\n",
       "    </tr>\n",
       "    <tr>\n",
       "      <th>22694</th>\n",
       "      <td>13.964286</td>\n",
       "      <td>1.098214</td>\n",
       "      <td>1</td>\n",
       "      <td>2</td>\n",
       "      <td>3</td>\n",
       "    </tr>\n",
       "    <tr>\n",
       "      <th>22695</th>\n",
       "      <td>58.875000</td>\n",
       "      <td>18.757500</td>\n",
       "      <td>0</td>\n",
       "      <td>2</td>\n",
       "      <td>1</td>\n",
       "    </tr>\n",
       "    <tr>\n",
       "      <th>22696</th>\n",
       "      <td>6.151515</td>\n",
       "      <td>0.684242</td>\n",
       "      <td>1</td>\n",
       "      <td>2</td>\n",
       "      <td>1</td>\n",
       "    </tr>\n",
       "    <tr>\n",
       "      <th>22697</th>\n",
       "      <td>14.500000</td>\n",
       "      <td>2.077500</td>\n",
       "      <td>0</td>\n",
       "      <td>2</td>\n",
       "      <td>1</td>\n",
       "    </tr>\n",
       "    <tr>\n",
       "      <th>22698</th>\n",
       "      <td>8.939394</td>\n",
       "      <td>1.476970</td>\n",
       "      <td>1</td>\n",
       "      <td>1</td>\n",
       "      <td>1</td>\n",
       "    </tr>\n",
       "  </tbody>\n",
       "</table>\n",
       "<p>22699 rows × 5 columns</p>\n",
       "</div>"
      ],
      "text/plain": [
       "       mean_duration  mean_distance  rush_hour  VendorID  passenger_count\n",
       "0          18.333333       3.521667          1         2                6\n",
       "1          21.000000       3.108889          1         1                1\n",
       "2           6.571429       0.881429          1         1                1\n",
       "3          30.000000       3.700000          0         2                1\n",
       "4          14.000000       4.435000          0         2                1\n",
       "...              ...            ...        ...       ...              ...\n",
       "22694      13.964286       1.098214          1         2                3\n",
       "22695      58.875000      18.757500          0         2                1\n",
       "22696       6.151515       0.684242          1         2                1\n",
       "22697      14.500000       2.077500          0         2                1\n",
       "22698       8.939394       1.476970          1         1                1\n",
       "\n",
       "[22699 rows x 5 columns]"
      ]
     },
     "execution_count": 43,
     "metadata": {},
     "output_type": "execute_result"
    }
   ],
   "source": [
    "X = df1.drop(columns=['fare_amount'])\n",
    "\n",
    "y = df1[[\"fare_amount\"]]\n",
    "\n",
    "X"
   ]
  },
  {
   "cell_type": "markdown",
   "metadata": {
    "id": "o3ArC_5xa7Oi"
   },
   "source": [
    "### Pre-process data\n"
   ]
  },
  {
   "cell_type": "code",
   "execution_count": 44,
   "metadata": {
    "id": "4Y3T2poF28fP"
   },
   "outputs": [
    {
     "name": "stdout",
     "output_type": "stream",
     "text": [
      "<class 'pandas.core.frame.DataFrame'>\n",
      "RangeIndex: 22699 entries, 0 to 22698\n",
      "Data columns (total 5 columns):\n",
      " #   Column           Non-Null Count  Dtype  \n",
      "---  ------           --------------  -----  \n",
      " 0   mean_duration    22699 non-null  float64\n",
      " 1   mean_distance    22699 non-null  float64\n",
      " 2   rush_hour        22699 non-null  int64  \n",
      " 3   VendorID         22699 non-null  object \n",
      " 4   passenger_count  22699 non-null  int64  \n",
      "dtypes: float64(2), int64(2), object(1)\n",
      "memory usage: 886.8+ KB\n",
      "None\n"
     ]
    },
    {
     "data": {
      "text/html": [
       "<div>\n",
       "<style scoped>\n",
       "    .dataframe tbody tr th:only-of-type {\n",
       "        vertical-align: middle;\n",
       "    }\n",
       "\n",
       "    .dataframe tbody tr th {\n",
       "        vertical-align: top;\n",
       "    }\n",
       "\n",
       "    .dataframe thead th {\n",
       "        text-align: right;\n",
       "    }\n",
       "</style>\n",
       "<table border=\"1\" class=\"dataframe\">\n",
       "  <thead>\n",
       "    <tr style=\"text-align: right;\">\n",
       "      <th></th>\n",
       "      <th>mean_duration</th>\n",
       "      <th>mean_distance</th>\n",
       "      <th>rush_hour</th>\n",
       "      <th>passenger_count</th>\n",
       "      <th>VendorID_2</th>\n",
       "    </tr>\n",
       "  </thead>\n",
       "  <tbody>\n",
       "    <tr>\n",
       "      <th>0</th>\n",
       "      <td>18.333333</td>\n",
       "      <td>3.521667</td>\n",
       "      <td>1</td>\n",
       "      <td>6</td>\n",
       "      <td>1</td>\n",
       "    </tr>\n",
       "    <tr>\n",
       "      <th>1</th>\n",
       "      <td>21.000000</td>\n",
       "      <td>3.108889</td>\n",
       "      <td>1</td>\n",
       "      <td>1</td>\n",
       "      <td>0</td>\n",
       "    </tr>\n",
       "    <tr>\n",
       "      <th>2</th>\n",
       "      <td>6.571429</td>\n",
       "      <td>0.881429</td>\n",
       "      <td>1</td>\n",
       "      <td>1</td>\n",
       "      <td>0</td>\n",
       "    </tr>\n",
       "    <tr>\n",
       "      <th>3</th>\n",
       "      <td>30.000000</td>\n",
       "      <td>3.700000</td>\n",
       "      <td>0</td>\n",
       "      <td>1</td>\n",
       "      <td>1</td>\n",
       "    </tr>\n",
       "    <tr>\n",
       "      <th>4</th>\n",
       "      <td>14.000000</td>\n",
       "      <td>4.435000</td>\n",
       "      <td>0</td>\n",
       "      <td>1</td>\n",
       "      <td>1</td>\n",
       "    </tr>\n",
       "    <tr>\n",
       "      <th>...</th>\n",
       "      <td>...</td>\n",
       "      <td>...</td>\n",
       "      <td>...</td>\n",
       "      <td>...</td>\n",
       "      <td>...</td>\n",
       "    </tr>\n",
       "    <tr>\n",
       "      <th>22694</th>\n",
       "      <td>13.964286</td>\n",
       "      <td>1.098214</td>\n",
       "      <td>1</td>\n",
       "      <td>3</td>\n",
       "      <td>1</td>\n",
       "    </tr>\n",
       "    <tr>\n",
       "      <th>22695</th>\n",
       "      <td>58.875000</td>\n",
       "      <td>18.757500</td>\n",
       "      <td>0</td>\n",
       "      <td>1</td>\n",
       "      <td>1</td>\n",
       "    </tr>\n",
       "    <tr>\n",
       "      <th>22696</th>\n",
       "      <td>6.151515</td>\n",
       "      <td>0.684242</td>\n",
       "      <td>1</td>\n",
       "      <td>1</td>\n",
       "      <td>1</td>\n",
       "    </tr>\n",
       "    <tr>\n",
       "      <th>22697</th>\n",
       "      <td>14.500000</td>\n",
       "      <td>2.077500</td>\n",
       "      <td>0</td>\n",
       "      <td>1</td>\n",
       "      <td>1</td>\n",
       "    </tr>\n",
       "    <tr>\n",
       "      <th>22698</th>\n",
       "      <td>8.939394</td>\n",
       "      <td>1.476970</td>\n",
       "      <td>1</td>\n",
       "      <td>1</td>\n",
       "      <td>0</td>\n",
       "    </tr>\n",
       "  </tbody>\n",
       "</table>\n",
       "<p>22699 rows × 5 columns</p>\n",
       "</div>"
      ],
      "text/plain": [
       "       mean_duration  mean_distance  rush_hour  passenger_count  VendorID_2\n",
       "0          18.333333       3.521667          1                6           1\n",
       "1          21.000000       3.108889          1                1           0\n",
       "2           6.571429       0.881429          1                1           0\n",
       "3          30.000000       3.700000          0                1           1\n",
       "4          14.000000       4.435000          0                1           1\n",
       "...              ...            ...        ...              ...         ...\n",
       "22694      13.964286       1.098214          1                3           1\n",
       "22695      58.875000      18.757500          0                1           1\n",
       "22696       6.151515       0.684242          1                1           1\n",
       "22697      14.500000       2.077500          0                1           1\n",
       "22698       8.939394       1.476970          1                1           0\n",
       "\n",
       "[22699 rows x 5 columns]"
      ]
     },
     "execution_count": 44,
     "metadata": {},
     "output_type": "execute_result"
    }
   ],
   "source": [
    "X[\"VendorID\"] = X[\"VendorID\"].astype(str) \n",
    "print(X.info())\n",
    "\n",
    "X = pd.get_dummies(X,drop_first=True)\n",
    "X"
   ]
  },
  {
   "cell_type": "markdown",
   "metadata": {},
   "source": [
    "### Split data into training and test sets"
   ]
  },
  {
   "cell_type": "code",
   "execution_count": 45,
   "metadata": {
    "id": "A2BNUvacwaZY"
   },
   "outputs": [],
   "source": [
    "X = X.drop(columns=['VendorID_2'])\n",
    "X_train, X_test, y_train, y_test = train_test_split(X, y, test_size=0.2, random_state=0)"
   ]
  },
  {
   "cell_type": "markdown",
   "metadata": {
    "id": "iDYyjWssbnBG"
   },
   "source": [
    "### Standardize the data"
   ]
  },
  {
   "cell_type": "code",
   "execution_count": 46,
   "metadata": {},
   "outputs": [
    {
     "data": {
      "text/plain": [
       "array([[ 0.16361495,  0.8694684 , -1.39669744, -0.50301524],\n",
       "       [-0.66401338, -0.60011281,  0.71597468, -0.50301524],\n",
       "       [-0.53276433, -0.47829156, -1.39669744,  0.27331093],\n",
       "       ...,\n",
       "       [-0.68998916, -0.45121122,  0.71597468, -0.50301524],\n",
       "       [-0.8101771 , -0.58944763,  0.71597468, -0.50301524],\n",
       "       [ 0.81053177,  0.83673851,  0.71597468,  1.82596329]])"
      ]
     },
     "execution_count": 46,
     "metadata": {},
     "output_type": "execute_result"
    }
   ],
   "source": [
    "from sklearn.preprocessing import StandardScaler\n",
    "standardize = StandardScaler().fit(X_train)\n",
    "X_train_ok = standardize.transform(X_train)\n",
    "X_train_ok"
   ]
  },
  {
   "cell_type": "markdown",
   "metadata": {
    "id": "wk0rjKeO3JLv"
   },
   "source": [
    "### Fit the model"
   ]
  },
  {
   "cell_type": "code",
   "execution_count": 47,
   "metadata": {
    "id": "SClNm5hWotj6"
   },
   "outputs": [
    {
     "data": {
      "text/plain": [
       "LinearRegression(copy_X=True, fit_intercept=True, n_jobs=None, normalize=False)"
      ]
     },
     "execution_count": 47,
     "metadata": {},
     "output_type": "execute_result"
    }
   ],
   "source": [
    "from sklearn.linear_model import LinearRegression\n",
    "lr=LinearRegression()\n",
    "lr.fit(X_train_ok, y_train)"
   ]
  },
  {
   "cell_type": "markdown",
   "metadata": {
    "id": "HMj6QkK1cLmS"
   },
   "source": [
    "### Evaluate model"
   ]
  },
  {
   "cell_type": "code",
   "execution_count": 48,
   "metadata": {
    "id": "33rE1x9e3U6t"
   },
   "outputs": [
    {
     "name": "stdout",
     "output_type": "stream",
     "text": [
      "Coefficient of determination: 0.8323548987118882\n",
      "R^2: 0.8323548987118882\n",
      "MAE: 2.336387552177198\n",
      "MSE: 18.726216654508907\n",
      "RMSE: 4.327379883313794\n"
     ]
    }
   ],
   "source": [
    "from sklearn.metrics import mean_absolute_error,r2_score,mean_squared_error\n",
    "r_sq = lr.score(X_train_ok, y_train)\n",
    "print('Coefficient of determination:', r_sq)\n",
    "y_pred_train = lr.predict(X_train_ok)\n",
    "print('R^2:', r2_score(y_train, y_pred_train))\n",
    "print('MAE:', mean_absolute_error(y_train, y_pred_train))\n",
    "print('MSE:', mean_squared_error(y_train, y_pred_train))\n",
    "print('RMSE:',np.sqrt(mean_squared_error(y_train, y_pred_train)))"
   ]
  },
  {
   "cell_type": "markdown",
   "metadata": {},
   "source": [
    "### Test data"
   ]
  },
  {
   "cell_type": "code",
   "execution_count": 49,
   "metadata": {},
   "outputs": [],
   "source": [
    "X_test_ok = standardize.transform(X_test)"
   ]
  },
  {
   "cell_type": "code",
   "execution_count": 50,
   "metadata": {
    "id": "P5nXSpRCVXq6"
   },
   "outputs": [
    {
     "name": "stdout",
     "output_type": "stream",
     "text": [
      "Coefficient of determination:  0.8605425785222975\n",
      "R^2: 0.8605425785222975\n",
      "MAE: 2.2759868365142184\n",
      "MSE: 15.16551956570878\n",
      "RMSE: 3.894293204897235\n"
     ]
    }
   ],
   "source": [
    "r_sq_test = lr.score(X_test_ok, y_test)\n",
    "print('Coefficient of determination: ', r_sq_test)\n",
    "y_pred_test = lr.predict(X_test_ok)\n",
    "print('R^2:', r2_score(y_test, y_pred_test))\n",
    "print('MAE:', mean_absolute_error(y_test,y_pred_test))\n",
    "print('MSE:', mean_squared_error(y_test, y_pred_test))\n",
    "print('RMSE:',np.sqrt(mean_squared_error(y_test, y_pred_test)))"
   ]
  },
  {
   "cell_type": "markdown",
   "metadata": {
    "id": "L3MCKUhPJLi5"
   },
   "source": [
    "## PACE: **Execute**"
   ]
  },
  {
   "cell_type": "markdown",
   "metadata": {
    "id": "F_l3bkxQdJ3a"
   },
   "source": [
    "### Results"
   ]
  },
  {
   "cell_type": "code",
   "execution_count": 51,
   "metadata": {
    "id": "cSl5gbXfBPBN"
   },
   "outputs": [
    {
     "data": {
      "text/html": [
       "<div>\n",
       "<style scoped>\n",
       "    .dataframe tbody tr th:only-of-type {\n",
       "        vertical-align: middle;\n",
       "    }\n",
       "\n",
       "    .dataframe tbody tr th {\n",
       "        vertical-align: top;\n",
       "    }\n",
       "\n",
       "    .dataframe thead th {\n",
       "        text-align: right;\n",
       "    }\n",
       "</style>\n",
       "<table border=\"1\" class=\"dataframe\">\n",
       "  <thead>\n",
       "    <tr style=\"text-align: right;\">\n",
       "      <th></th>\n",
       "      <th>actual</th>\n",
       "      <th>predicted</th>\n",
       "      <th>residual</th>\n",
       "    </tr>\n",
       "  </thead>\n",
       "  <tbody>\n",
       "    <tr>\n",
       "      <th>5818</th>\n",
       "      <td>14.0</td>\n",
       "      <td>12.426200</td>\n",
       "      <td>1.573800</td>\n",
       "    </tr>\n",
       "    <tr>\n",
       "      <th>18134</th>\n",
       "      <td>28.0</td>\n",
       "      <td>15.009347</td>\n",
       "      <td>12.990653</td>\n",
       "    </tr>\n",
       "    <tr>\n",
       "      <th>4655</th>\n",
       "      <td>5.5</td>\n",
       "      <td>6.872836</td>\n",
       "      <td>-1.372836</td>\n",
       "    </tr>\n",
       "    <tr>\n",
       "      <th>7378</th>\n",
       "      <td>15.5</td>\n",
       "      <td>16.810616</td>\n",
       "      <td>-1.310616</td>\n",
       "    </tr>\n",
       "    <tr>\n",
       "      <th>13914</th>\n",
       "      <td>9.5</td>\n",
       "      <td>10.417324</td>\n",
       "      <td>-0.917324</td>\n",
       "    </tr>\n",
       "  </tbody>\n",
       "</table>\n",
       "</div>"
      ],
      "text/plain": [
       "       actual  predicted   residual\n",
       "5818     14.0  12.426200   1.573800\n",
       "18134    28.0  15.009347  12.990653\n",
       "4655      5.5   6.872836  -1.372836\n",
       "7378     15.5  16.810616  -1.310616\n",
       "13914     9.5  10.417324  -0.917324"
      ]
     },
     "execution_count": 51,
     "metadata": {},
     "output_type": "execute_result"
    }
   ],
   "source": [
    "results = pd.DataFrame(data={'actual': y_test['fare_amount'],\n",
    "                             'predicted': y_pred_test.ravel()})\n",
    "results['residual'] = results['actual'] - results['predicted']\n",
    "results.head()"
   ]
  },
  {
   "cell_type": "markdown",
   "metadata": {
    "id": "mwRmSDS3eyeH"
   },
   "source": [
    "### Visualize model results"
   ]
  },
  {
   "cell_type": "code",
   "execution_count": 52,
   "metadata": {
    "id": "IBFU_dicBjwQ"
   },
   "outputs": [
    {
     "data": {
      "text/plain": [
       "<matplotlib.axes._subplots.AxesSubplot at 0x732ea20ef650>"
      ]
     },
     "execution_count": 52,
     "metadata": {},
     "output_type": "execute_result"
    },
    {
     "data": {
      "image/png": "[encoded data removed]",
      "text/plain": [
       "<Figure size 432x288 with 1 Axes>"
      ]
     },
     "metadata": {
      "needs_background": "light"
     },
     "output_type": "display_data"
    }
   ],
   "source": [
    "sns.scatterplot(x='actual',\n",
    "                y='predicted',\n",
    "                data=results)"
   ]
  },
  {
   "cell_type": "code",
   "execution_count": 53,
   "metadata": {
    "id": "3a0UYoEr9Nx6"
   },
   "outputs": [
    {
     "data": {
      "text/plain": [
       "<matplotlib.axes._subplots.AxesSubplot at 0x732ea20607d0>"
      ]
     },
     "execution_count": 53,
     "metadata": {},
     "output_type": "execute_result"
    },
    {
     "data": {
      "image/png": "[encoded data removed]",
      "text/plain": [
       "<Figure size 432x288 with 1 Axes>"
      ]
     },
     "metadata": {
      "needs_background": "light"
     },
     "output_type": "display_data"
    }
   ],
   "source": [
    "sns.histplot(results['residual'],bins=np.arange(-10,10.5,0.5))"
   ]
  },
  {
   "cell_type": "code",
   "execution_count": 54,
   "metadata": {},
   "outputs": [
    {
     "data": {
      "text/plain": [
       "0.017369532158600393"
      ]
     },
     "execution_count": 54,
     "metadata": {},
     "output_type": "execute_result"
    }
   ],
   "source": [
    "results[\"residual\"].mean()"
   ]
  },
  {
   "cell_type": "markdown",
   "metadata": {
    "id": "OCnELck-9h5M"
   },
   "source": [
    "Create a scatterplot of `residuals` over `predicted`."
   ]
  },
  {
   "cell_type": "code",
   "execution_count": 55,
   "metadata": {
    "id": "7Kmr2U8A95fY"
   },
   "outputs": [
    {
     "data": {
      "text/plain": [
       "<matplotlib.lines.Line2D at 0x732ea0f1d190>"
      ]
     },
     "execution_count": 55,
     "metadata": {},
     "output_type": "execute_result"
    },
    {
     "data": {
      "image/png": "[encoded data removed]",
      "text/plain": [
       "<Figure size 432x288 with 1 Axes>"
      ]
     },
     "metadata": {
      "needs_background": "light"
     },
     "output_type": "display_data"
    }
   ],
   "source": [
    "sns.scatterplot(x='predicted', y='residual', data=results)\n",
    "plt.axhline(0, c='red')"
   ]
  },
  {
   "cell_type": "markdown",
   "metadata": {},
   "source": [
    "### Coefficients"
   ]
  },
  {
   "cell_type": "code",
   "execution_count": 56,
   "metadata": {},
   "outputs": [
    {
     "data": {
      "text/html": [
       "<div>\n",
       "<style scoped>\n",
       "    .dataframe tbody tr th:only-of-type {\n",
       "        vertical-align: middle;\n",
       "    }\n",
       "\n",
       "    .dataframe tbody tr th {\n",
       "        vertical-align: top;\n",
       "    }\n",
       "\n",
       "    .dataframe thead th {\n",
       "        text-align: right;\n",
       "    }\n",
       "</style>\n",
       "<table border=\"1\" class=\"dataframe\">\n",
       "  <thead>\n",
       "    <tr style=\"text-align: right;\">\n",
       "      <th></th>\n",
       "      <th>mean_duration</th>\n",
       "      <th>mean_distance</th>\n",
       "      <th>rush_hour</th>\n",
       "      <th>passenger_count</th>\n",
       "    </tr>\n",
       "  </thead>\n",
       "  <tbody>\n",
       "    <tr>\n",
       "      <th>0</th>\n",
       "      <td>1.695075</td>\n",
       "      <td>8.236757</td>\n",
       "      <td>0.119882</td>\n",
       "      <td>0.021782</td>\n",
       "    </tr>\n",
       "  </tbody>\n",
       "</table>\n",
       "</div>"
      ],
      "text/plain": [
       "   mean_duration  mean_distance  rush_hour  passenger_count\n",
       "0       1.695075       8.236757   0.119882         0.021782"
      ]
     },
     "execution_count": 56,
     "metadata": {},
     "output_type": "execute_result"
    }
   ],
   "source": [
    "coefficients = pd.DataFrame(lr.coef_, columns=X.columns)\n",
    "coefficients"
   ]
  },
  {
   "cell_type": "markdown",
   "metadata": {},
   "source": [
    "A coefficient of 8.236757 clearly shows the mean_distance as the variable with the greatest impact on the fare_amount in this model."
   ]
  }
 ],
 "metadata": {
  "celltoolbar": "Raw Cell Format",
  "colab": {
   "provenance": [],
   "toc_visible": true
  },
  "kernelspec": {
   "display_name": "Python 3 (ipykernel)",
   "language": "python",
   "name": "python3"
  },
  "language_info": {
   "codemirror_mode": {
    "name": "ipython",
    "version": 3
   },
   "file_extension": ".py",
   "mimetype": "text/x-python",
   "name": "python",
   "nbconvert_exporter": "python",
   "pygments_lexer": "ipython3",
   "version": "3.10.5"
  }
 },
 "nbformat": 4,
 "nbformat_minor": 1
}
